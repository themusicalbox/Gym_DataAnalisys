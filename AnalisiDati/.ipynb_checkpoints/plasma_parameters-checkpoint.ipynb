{
 "cells": [
  {
   "cell_type": "markdown",
   "metadata": {},
   "source": [
    "# Parametri di plasma"
   ]
  },
  {
   "cell_type": "markdown",
   "metadata": {},
   "source": [
    "In questo notebook verranno testati gli algoritmi per ricavare i parametri di plasma a partire dai risutati del fit"
   ]
  },
  {
   "cell_type": "markdown",
   "metadata": {},
   "source": [
    "## Struttura del programma"
   ]
  },
  {
   "cell_type": "markdown",
   "metadata": {},
   "source": [
    "Imposto il programma di analisi fino alla funzione di fit a cui andrà aggiunto il calcolo dei parametri di plasma"
   ]
  },
  {
   "cell_type": "code",
   "execution_count": 1,
   "metadata": {},
   "outputs": [],
   "source": [
    "import numpy as np\n",
    "import pandas as pd\n",
    "import matplotlib as mpl\n",
    "import matplotlib.pyplot as plt\n",
    "from libraries import dtlg\n",
    "from libraries import filtering\n",
    "from libraries import binning\n",
    "from libraries import fitting\n",
    "from scipy import odr\n",
    "\n",
    "# libreria parecchio figa di scipy che \n",
    "# si porta dietro una marea di costanti \n",
    "# fisiche, con le relative incertezze\n",
    "# wow.\n",
    "from scipy import constants as const\n",
    "\n",
    "mpl.rcParams['figure.figsize'] = (8,6)"
   ]
  },
  {
   "cell_type": "markdown",
   "metadata": {},
   "source": [
    "Imposto i parametri iniziali per il funzionamento del programma"
   ]
  },
  {
   "cell_type": "code",
   "execution_count": 2,
   "metadata": {},
   "outputs": [],
   "source": [
    "# IMPORT DATA\n",
    "path = 'dati/190415/190415.dati/190415024'\n",
    "offset = -0.011490804036458333\n",
    "usecols = [0,1,2]\n",
    "start_time = 1e-3\n",
    "amp = 1\n",
    "res = 997\n",
    "invert = True"
   ]
  },
  {
   "cell_type": "markdown",
   "metadata": {},
   "source": [
    "Importo i dati"
   ]
  },
  {
   "cell_type": "code",
   "execution_count": 3,
   "metadata": {},
   "outputs": [],
   "source": [
    "data = filtering.import_data(path, usecols, start_time, offset, amp, res,\n",
    "                            invert)"
   ]
  },
  {
   "cell_type": "markdown",
   "metadata": {},
   "source": [
    "Imposto il binning"
   ]
  },
  {
   "cell_type": "code",
   "execution_count": 4,
   "metadata": {},
   "outputs": [],
   "source": [
    "# BINNING\n",
    "zones = [np.min(data.Vp), -1, np.max(data.Vp)]\n",
    "n_bins = [100,200]"
   ]
  },
  {
   "cell_type": "markdown",
   "metadata": {},
   "source": [
    "Eseguo il binning"
   ]
  },
  {
   "cell_type": "code",
   "execution_count": 5,
   "metadata": {},
   "outputs": [],
   "source": [
    "binned_data = binning.bin_data(data, zones, n_bins)"
   ]
  },
  {
   "cell_type": "markdown",
   "metadata": {},
   "source": [
    "Imposto il fit  e definisco la langmuir"
   ]
  },
  {
   "cell_type": "code",
   "execution_count": 6,
   "metadata": {},
   "outputs": [
    {
     "name": "stdout",
     "output_type": "stream",
     "text": [
      "-2.251943191838501\n"
     ]
    }
   ],
   "source": [
    "# FITTING\n",
    "def langmuir(par, x):\n",
    "    '''\n",
    "    La fuznione definisce la curva di langmuir\n",
    "    riceve una variabile e quattro parametri.\n",
    "    '''\n",
    "    return par[0] * (1 - par[1] * (x - par[2]) -\n",
    "                     np.exp((x - par[2]) / par[3]))\n",
    "\n",
    "Vfl = fitting.compute_V_floating(binned_data)\n",
    "print(Vfl)\n",
    "n_iteration = 40\n",
    "x_max_first_iter = Vfl\n",
    "step = .5\n",
    "initial_parameters = [.001, .0001, Vfl, 1]"
   ]
  },
  {
   "cell_type": "markdown",
   "metadata": {},
   "source": [
    "Eseguo il fit dei dati"
   ]
  },
  {
   "cell_type": "code",
   "execution_count": 7,
   "metadata": {},
   "outputs": [],
   "source": [
    "fit_output = fitting.fit_iteration(binned_data,\n",
    "                                   langmuir,\n",
    "                                   n_iteration,\n",
    "                                   x_max_first_iter,\n",
    "                                   step,\n",
    "                                   initial_parameters)\n",
    "plt.close()\n",
    "plt.close()"
   ]
  },
  {
   "cell_type": "code",
   "execution_count": 8,
   "metadata": {},
   "outputs": [
    {
     "data": {
      "text/plain": [
       "[(-0.0004013917919591289, 4.38155394145603e-06),\n",
       " (0.01402103413029615, 0.0004812600134496101),\n",
       " (-2.3993919392640333, 0.03531258012934138),\n",
       " (4.8028205162928845, 0.04254649068288718)]"
      ]
     },
     "execution_count": 8,
     "metadata": {},
     "output_type": "execute_result"
    }
   ],
   "source": [
    "fit_output[\"fit_par\"]"
   ]
  },
  {
   "cell_type": "markdown",
   "metadata": {},
   "source": [
    "## Calcolo dei parametri di plasma"
   ]
  },
  {
   "cell_type": "markdown",
   "metadata": {},
   "source": [
    "Bisogna calcolare:\n",
    "1. **Temperatura elettronica:** $T_e$\n",
    "2. **Potenziale flottante:** $V_{fl}$ \n",
    "3. **Densità elettronica:** $n_e$\n",
    "4. **Potenziale di Plasma:** $V_{pl}$\n",
    "\n",
    "Le prime due quantità escono direttamente dai parametri del fit, mentre gli altri due devono essere calcolati usando alcune leggi. In particolare, la densità si ricava dalla legge\n",
    "$$\n",
    "I_i^{\\mbox{sat}} = 0.6 \\cdot e \\, n_e \\, A_{\\mbox{eff}} \\sqrt{\\frac{T_e}{m_i}}\n",
    "$$\n",
    "dove $e$ è la carica dell'elettrone, $A_{\\mbox{eff}}$ è l'area efficace di raccolta della sonda, $n_e$ la densità elettronica del plasma, $T_e$ è la temperatura elettronica e $m_i$ la massa degli ioni che compongono il plasma, nel nostro caso si tratta di ioni di deuterio. Girando la formula si ottiene:\n",
    "$$\n",
    "n_e = \\frac{I_i^{\\mbox{sat}}}{0.6 \\cdot e \\, A_{\\mbox{eff}}} \\sqrt{\\frac{m_i}{T_e}}\n",
    "$$\n",
    "\n",
    "La temperatura $T_e$ è intesa come un'energia, dato che la massa è comodo averla nel sistema internazionale, conviene scrivere la temperatura elettronica in Joule. Si ha che \n",
    "$$\n",
    "T[\\mbox{eV}] = \\frac{k_B \\cdot T[\\mbox{K}]}{e} \n",
    "$$\n",
    "dunque per ricavare la temperatura in Kelvin basta girare la formula\n",
    "$$\n",
    "T[\\mbox{K}] = \\frac{T[\\mbox{eV}] \\cdot e}{k_B}\n",
    "$$\n",
    "\n",
    "Ora, per esprimere la temperatura come un'energia in Joule sfruttiamo la legge $E=k_B \\cdot T$, dunque si ottiene\n",
    "$$\n",
    "T[\\mbox{J}] = T[\\mbox{eV}] \\cdot e\n",
    "$$\n",
    "per fare il conto, dunque, usiamo la formula così scritta\n",
    "$$\n",
    "n_e = \\frac{I_i^{\\mbox{sat}}}{0.6 \\cdot e \\, A_{\\mbox{eff}}} \\sqrt{\\frac{m_i}{T_e [\\mbox{eV}] \\cdot e}}\n",
    "$$"
   ]
  },
  {
   "cell_type": "markdown",
   "metadata": {},
   "source": [
    "Definisco una funzione per il calcolo della densità elettronica del plasma considerando tutte le incertezza, pure quelle sui valori tabulati. Per quanto riguarda la massa degli ioni di deuterio considero la massa del deuterio come valore tabulato da `scipy`"
   ]
  },
  {
   "cell_type": "code",
   "execution_count": 31,
   "metadata": {},
   "outputs": [],
   "source": [
    "md = const.physical_constants[\"deuteron mass\"]\n",
    "e  = const.physical_constants[\"elementary charge\"]\n",
    "\n",
    "def compute_electron_density(ion_current, probe_area, Te):\n",
    "    n_e    = (ion_current[0]/(.6 * (-1) * e[0] * probe_area[0]) *\n",
    "              np.sqrt(md[0] / (Te[0] * e[0])))\n",
    "    \n",
    "    I_contrib = 1/(e[0]**(1.5) * probe_area[0]) * np.sqrt(md[0]/Te[0]) * ion_current[1]\n",
    "    e_contrib = 1.5 * ion_current[0]/probe_area[0] * np.sqrt(md[0]/Te[0]) * e[0]**(-2.5) * e[2]\n",
    "    A_contrib = ion_current[0]/(probe_area[0]**2 * e[0]**1.5) * np.sqrt(md[0]/Te[0]) * probe_area[1]\n",
    "    m_contrib = .5 * ion_current[0]/(e[0]**1.5 * probe_area[0] * np.sqrt(Te[0] * md[0])) * md[2] \n",
    "    T_conytib = .5 * ion_current[0]/(e[0]**1.5 * probe_area[0]) * md[0]**.5 * Te[0]**(-1.5) * Te[1]\n",
    "    \n",
    "    err_ne = np.sqrt(I_contrib**2 + e_contrib**2 + A_contrib**2 + m_contrib**2 + T_conytib**2)\n",
    "    \n",
    "    # TODO: calcolare l'incertezza verificare come l'incertezza sui valori tabulati incida \n",
    "    # sull'incertezza totale.\n",
    "    return (n_e, err_ne)"
   ]
  },
  {
   "cell_type": "code",
   "execution_count": 32,
   "metadata": {},
   "outputs": [
    {
     "name": "stdout",
     "output_type": "stream",
     "text": [
      "n_e = 3.893832 ± 0.027522\n"
     ]
    }
   ],
   "source": [
    "ion_current = fit_output[\"fit_par\"][0]\n",
    "Te = fit_output[\"fit_par\"][3]\n",
    "L = 0.01125\n",
    "d = 0.002\n",
    "probe_area = (L * d * np.pi, 0)\n",
    "\n",
    "n_e = compute_electron_density(ion_current, probe_area, Te)\n",
    "print(\"n_e = %f ± %f\" % (n_e[0] / 1e15, n_e[1]/1e15))"
   ]
  },
  {
   "cell_type": "markdown",
   "metadata": {},
   "source": [
    "Proviamo a vedere come cambia l'incertezza se non si considerano le incertezze sui valori tabulati: essendo misure molto precise mi aspetto una variazione nulla o trascurabile."
   ]
  },
  {
   "cell_type": "code",
   "execution_count": 33,
   "metadata": {},
   "outputs": [
    {
     "name": "stdout",
     "output_type": "stream",
     "text": [
      "n_e = 3.893832 ± 0.027522\n"
     ]
    }
   ],
   "source": [
    "def compute_electron_density1(ion_current, probe_area, Te):\n",
    "    n_e    = (ion_current[0]/(.6 * (-1) * e[0] * probe_area[0]) *\n",
    "              np.sqrt(md[0] / (Te[0] * e[0])))\n",
    "    \n",
    "    I_contrib = 1/(e[0]**(1.5) * probe_area[0]) * np.sqrt(md[0]/Te[0]) * ion_current[1]\n",
    "    e_contrib = 0#1.5 * ion_current[0]/probe_area[0] * np.sqrt(md[0]/Te[0]) * e[0]**(-2.5) * e[2]\n",
    "    A_contrib = 0#ion_current[0]/(probe_area[0]**2 * e[0]**1.5) * np.sqrt(md[0]/Te[0]) * probe_area[1]\n",
    "    m_contrib = 0#.5 * ion_current[0]/(e[0]**1.5 * probe_area[0] * np.sqrt(Te[0] * md[0])) * md[2] \n",
    "    T_conytib = .5 * ion_current[0]/(e[0]**1.5 * probe_area[0]) * md[0]**.5 * Te[0]**(-1.5) * Te[1]\n",
    "    \n",
    "    err_ne = np.sqrt(I_contrib**2 + e_contrib**2 + A_contrib**2 + m_contrib**2 + T_conytib**2)\n",
    "    \n",
    "    # TODO: calcolare l'incertezza verificare come l'incertezza sui valori tabulati incida \n",
    "    # sull'incertezza totale.\n",
    "    return (n_e, err_ne)\n",
    "\n",
    "n_e = compute_electron_density1(ion_current, probe_area, Te)\n",
    "print(\"n_e = %f ± %f\" % (n_e[0] / 1e15, n_e[1]/1e15))\n"
   ]
  },
  {
   "cell_type": "markdown",
   "metadata": {},
   "source": [
    "Come mi aspettavo, non cambia assolutamente nulla quindi si possono anche non considerare tali incertezze. Un'altra cosa da cerificare è la massa ionica: nell'esperimento si utilizzerà plasma di deuterio e la massa di uno ione di deuterio si può calcolare come la massa del deuterio (la massa di un elettrone è trascurabile rispetto a quella di un protone e di un neutrone), oppure come somma dei valori tabulati della massa un un neutrone e di un protone, nei due calcoli precedenti è stato utilizzato il primo metodo. Vediamo ora come cambia la densità elettronica usando il secondo metodo dato che è stata trovata una discrepanza numerica tra i due metodi per calcolare la massa ionica."
   ]
  },
  {
   "cell_type": "code",
   "execution_count": 40,
   "metadata": {},
   "outputs": [],
   "source": [
    "md = (const.physical_constants[\"neutron mass\"][0] + const.physical_constants[\"proton mass\"][0], 0)"
   ]
  },
  {
   "cell_type": "code",
   "execution_count": 41,
   "metadata": {},
   "outputs": [
    {
     "name": "stdout",
     "output_type": "stream",
     "text": [
      "n_e = 3.896140 ± 0.027539\n"
     ]
    }
   ],
   "source": [
    "n_e = compute_electron_density1(ion_current, probe_area, Te)\n",
    "print(\"n_e = %f ± %f\" % (n_e[0] / 1e15, n_e[1]/1e15))"
   ]
  },
  {
   "cell_type": "markdown",
   "metadata": {},
   "source": [
    "Qui la variazione rimane trascurabile anche se comunque va ad intaccare la cifra dopo l'ultima cifra significativa... chiedere qual è il valore più giusto "
   ]
  },
  {
   "cell_type": "markdown",
   "metadata": {},
   "source": [
    "### Potenziale di plasma"
   ]
  },
  {
   "cell_type": "markdown",
   "metadata": {},
   "source": [
    "Occorre ora calcolare il potenziale di plasma, per farlo si usa la formula\n",
    "$$\n",
    "V_{\\mbox{plasma}} = V_{\\mbox{floating}} + \\Lambda T_e\n",
    "$$\n",
    "dove $\\Lambda$ è un coefficiente che dipende dalla composizione del plasma che per il plasma di deuterio vale circa $3.3$ (chiedere)."
   ]
  },
  {
   "cell_type": "code",
   "execution_count": 42,
   "metadata": {},
   "outputs": [],
   "source": [
    "def compute_V_plasma(fit_par):\n",
    "    return(fit_par[2][0] + 3.3 * fit_par[3][0],\n",
    "          np.sqrt(fit_par[2][1]**2 + (3.3 * fit_par[3][1])**2))"
   ]
  },
  {
   "cell_type": "code",
   "execution_count": 43,
   "metadata": {},
   "outputs": [],
   "source": [
    "Vpl = compute_V_plasma(fit_output[\"fit_par\"])"
   ]
  },
  {
   "cell_type": "code",
   "execution_count": 44,
   "metadata": {},
   "outputs": [
    {
     "data": {
      "text/plain": [
       "(13.449915764502485, 0.14477602858716984)"
      ]
     },
     "execution_count": 44,
     "metadata": {},
     "output_type": "execute_result"
    }
   ],
   "source": [
    "Vpl"
   ]
  },
  {
   "cell_type": "code",
   "execution_count": null,
   "metadata": {},
   "outputs": [],
   "source": []
  }
 ],
 "metadata": {
  "kernelspec": {
   "display_name": "Python 3",
   "language": "python",
   "name": "python3"
  },
  "language_info": {
   "codemirror_mode": {
    "name": "ipython",
    "version": 3
   },
   "file_extension": ".py",
   "mimetype": "text/x-python",
   "name": "python",
   "nbconvert_exporter": "python",
   "pygments_lexer": "ipython3",
   "version": "3.7.3"
  }
 },
 "nbformat": 4,
 "nbformat_minor": 2
}
