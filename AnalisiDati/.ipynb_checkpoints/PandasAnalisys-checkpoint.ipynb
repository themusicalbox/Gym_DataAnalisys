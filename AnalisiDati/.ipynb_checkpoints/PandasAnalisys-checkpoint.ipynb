{
 "cells": [
  {
   "cell_type": "markdown",
   "metadata": {},
   "source": [
    "# Analisi e filtraggio dei dati"
   ]
  },
  {
   "cell_type": "markdown",
   "metadata": {},
   "source": [
    "## Caricamento del set di dati"
   ]
  },
  {
   "cell_type": "markdown",
   "metadata": {},
   "source": [
    "Cerchiamo di analizzare i dati del file di prova di un'acquisizione di una sonda di Langmuir usando i metodi offerti dalla libreria Pandas di Python.\n",
    "\n",
    "Iniziamo importando le librerie necessarie"
   ]
  },
  {
   "cell_type": "code",
   "execution_count": 4,
   "metadata": {},
   "outputs": [],
   "source": [
    "import numpy as np\n",
    "import pandas as pd\n",
    "import matplotlib as mpl\n",
    "import matplotlib.pyplot as plt\n",
    "from libraries import dtlg as dtlg\n",
    "from scipy import odr\n",
    "\n",
    "mpl.rcParams['figure.figsize'] = (8,6)"
   ]
  },
  {
   "cell_type": "markdown",
   "metadata": {},
   "source": [
    "Apriamo il file dei dati e creiamo il dataframe di Pandas. Si noti l'utilizzo del metodo traspose (si veda il codice sorgente della funzione `import_data`): per qualche motivo la libreria `dtlg` importa ciò che dovrebbe essere una riga come colonna e viceversa (ottengo un array bidimensionale da 4 righe e 75000 colonne, non buono), dunque, in termini matematici, trasponiamo la matrice."
   ]
  },
  {
   "cell_type": "code",
   "execution_count": 5,
   "metadata": {},
   "outputs": [],
   "source": [
    "def import_data(path, col_names):\n",
    "    '''\n",
    "    La funzione riceve percorso (path) e una lista\n",
    "    dei nomi delle colonne e importa i dati creando \n",
    "    un dataset di Pandas.\n",
    "    '''\n",
    "    with open(path, 'rb') as dtlg_file:\n",
    "        data = dtlg.parse(dtlg_file).transpose()\n",
    "    df = pd.DataFrame(data=data,\n",
    "                      columns=col_names)\n",
    "    return df"
   ]
  },
  {
   "cell_type": "code",
   "execution_count": 6,
   "metadata": {},
   "outputs": [
    {
     "name": "stdout",
     "output_type": "stream",
     "text": [
      "Help on function import_data in module __main__:\n",
      "\n",
      "import_data(path, col_names)\n",
      "    La funzione riceve percorso (path) e una lista\n",
      "    dei nomi delle colonne e importa i dati creando \n",
      "    un dataset di Pandas.\n",
      "\n"
     ]
    }
   ],
   "source": [
    "help(import_data)"
   ]
  },
  {
   "cell_type": "code",
   "execution_count": 7,
   "metadata": {},
   "outputs": [],
   "source": [
    "path = 'dati/180412003'\n",
    "col_names = ['time', 'V_in', 'Vr', 'Vr_2']\n",
    "data = import_data(path, col_names)"
   ]
  },
  {
   "cell_type": "markdown",
   "metadata": {},
   "source": [
    "Vediamo come è venuto il dataset"
   ]
  },
  {
   "cell_type": "code",
   "execution_count": 6,
   "metadata": {},
   "outputs": [
    {
     "data": {
      "text/html": [
       "<div>\n",
       "<style scoped>\n",
       "    .dataframe tbody tr th:only-of-type {\n",
       "        vertical-align: middle;\n",
       "    }\n",
       "\n",
       "    .dataframe tbody tr th {\n",
       "        vertical-align: top;\n",
       "    }\n",
       "\n",
       "    .dataframe thead th {\n",
       "        text-align: right;\n",
       "    }\n",
       "</style>\n",
       "<table border=\"1\" class=\"dataframe\">\n",
       "  <thead>\n",
       "    <tr style=\"text-align: right;\">\n",
       "      <th></th>\n",
       "      <th>time</th>\n",
       "      <th>V_in</th>\n",
       "      <th>Vr</th>\n",
       "      <th>Vr_2</th>\n",
       "    </tr>\n",
       "  </thead>\n",
       "  <tbody>\n",
       "    <tr>\n",
       "      <th>0</th>\n",
       "      <td>0.000000</td>\n",
       "      <td>0.002441</td>\n",
       "      <td>0.014648</td>\n",
       "      <td>0.072021</td>\n",
       "    </tr>\n",
       "    <tr>\n",
       "      <th>1</th>\n",
       "      <td>0.000007</td>\n",
       "      <td>0.001221</td>\n",
       "      <td>0.006104</td>\n",
       "      <td>0.042725</td>\n",
       "    </tr>\n",
       "    <tr>\n",
       "      <th>2</th>\n",
       "      <td>0.000013</td>\n",
       "      <td>0.000000</td>\n",
       "      <td>0.009766</td>\n",
       "      <td>0.036621</td>\n",
       "    </tr>\n",
       "    <tr>\n",
       "      <th>3</th>\n",
       "      <td>0.000020</td>\n",
       "      <td>0.002441</td>\n",
       "      <td>0.010986</td>\n",
       "      <td>0.048828</td>\n",
       "    </tr>\n",
       "    <tr>\n",
       "      <th>4</th>\n",
       "      <td>0.000027</td>\n",
       "      <td>-0.001221</td>\n",
       "      <td>-0.001221</td>\n",
       "      <td>0.030518</td>\n",
       "    </tr>\n",
       "  </tbody>\n",
       "</table>\n",
       "</div>"
      ],
      "text/plain": [
       "       time      V_in        Vr      Vr_2\n",
       "0  0.000000  0.002441  0.014648  0.072021\n",
       "1  0.000007  0.001221  0.006104  0.042725\n",
       "2  0.000013  0.000000  0.009766  0.036621\n",
       "3  0.000020  0.002441  0.010986  0.048828\n",
       "4  0.000027 -0.001221 -0.001221  0.030518"
      ]
     },
     "execution_count": 6,
     "metadata": {},
     "output_type": "execute_result"
    }
   ],
   "source": [
    "data.head()"
   ]
  },
  {
   "cell_type": "code",
   "execution_count": 7,
   "metadata": {},
   "outputs": [
    {
     "data": {
      "text/html": [
       "<div>\n",
       "<style scoped>\n",
       "    .dataframe tbody tr th:only-of-type {\n",
       "        vertical-align: middle;\n",
       "    }\n",
       "\n",
       "    .dataframe tbody tr th {\n",
       "        vertical-align: top;\n",
       "    }\n",
       "\n",
       "    .dataframe thead th {\n",
       "        text-align: right;\n",
       "    }\n",
       "</style>\n",
       "<table border=\"1\" class=\"dataframe\">\n",
       "  <thead>\n",
       "    <tr style=\"text-align: right;\">\n",
       "      <th></th>\n",
       "      <th>time</th>\n",
       "      <th>V_in</th>\n",
       "      <th>Vr</th>\n",
       "      <th>Vr_2</th>\n",
       "    </tr>\n",
       "  </thead>\n",
       "  <tbody>\n",
       "    <tr>\n",
       "      <th>74995</th>\n",
       "      <td>0.498717</td>\n",
       "      <td>-1.444092</td>\n",
       "      <td>-0.015869</td>\n",
       "      <td>-0.003662</td>\n",
       "    </tr>\n",
       "    <tr>\n",
       "      <th>74996</th>\n",
       "      <td>0.498723</td>\n",
       "      <td>-1.451416</td>\n",
       "      <td>-0.006104</td>\n",
       "      <td>0.013428</td>\n",
       "    </tr>\n",
       "    <tr>\n",
       "      <th>74997</th>\n",
       "      <td>0.498730</td>\n",
       "      <td>-1.497803</td>\n",
       "      <td>-0.001221</td>\n",
       "      <td>0.008545</td>\n",
       "    </tr>\n",
       "    <tr>\n",
       "      <th>74998</th>\n",
       "      <td>0.498737</td>\n",
       "      <td>-1.495361</td>\n",
       "      <td>0.002441</td>\n",
       "      <td>0.007324</td>\n",
       "    </tr>\n",
       "    <tr>\n",
       "      <th>74999</th>\n",
       "      <td>0.498743</td>\n",
       "      <td>-1.510010</td>\n",
       "      <td>0.004883</td>\n",
       "      <td>0.025635</td>\n",
       "    </tr>\n",
       "  </tbody>\n",
       "</table>\n",
       "</div>"
      ],
      "text/plain": [
       "           time      V_in        Vr      Vr_2\n",
       "74995  0.498717 -1.444092 -0.015869 -0.003662\n",
       "74996  0.498723 -1.451416 -0.006104  0.013428\n",
       "74997  0.498730 -1.497803 -0.001221  0.008545\n",
       "74998  0.498737 -1.495361  0.002441  0.007324\n",
       "74999  0.498743 -1.510010  0.004883  0.025635"
      ]
     },
     "execution_count": 7,
     "metadata": {},
     "output_type": "execute_result"
    }
   ],
   "source": [
    "data.tail()"
   ]
  },
  {
   "cell_type": "markdown",
   "metadata": {},
   "source": [
    "Controllo anche il tipo di dati importati"
   ]
  },
  {
   "cell_type": "code",
   "execution_count": 8,
   "metadata": {},
   "outputs": [
    {
     "data": {
      "text/plain": [
       "time    float64\n",
       "V_in    float64\n",
       "Vr      float64\n",
       "Vr_2    float64\n",
       "dtype: object"
      ]
     },
     "execution_count": 8,
     "metadata": {},
     "output_type": "execute_result"
    }
   ],
   "source": [
    "data.dtypes"
   ]
  },
  {
   "cell_type": "markdown",
   "metadata": {},
   "source": [
    "Okay. Le colonne sono tutti tipi `float` quindi sono correttamente visti come numeri"
   ]
  },
  {
   "cell_type": "markdown",
   "metadata": {},
   "source": [
    "##  Filtraggio e correzione dei dati"
   ]
  },
  {
   "cell_type": "markdown",
   "metadata": {},
   "source": [
    "A questo punto i dati hanno un paio di criticità: Il generatore ci mette un certo tempo prima di andare a regime, dunque prima di che sia passato questo piccolo intervallo di tempo produrrà dati molto dispersi e privi di senso, bisogna liberarsi di questi dati; l'amplificatore operazionale sul quale leggiamo i valori di $V_r$ può presentare un offset da compensare.\n",
    "\n",
    "Nei due grafici sotto si nota la dispersione dovuta al tempo di start del generatore nei primi punti"
   ]
  },
  {
   "cell_type": "code",
   "execution_count": 9,
   "metadata": {},
   "outputs": [
    {
     "data": {
      "text/plain": [
       "[<matplotlib.lines.Line2D at 0x7fbbd1606d68>]"
      ]
     },
     "execution_count": 9,
     "metadata": {},
     "output_type": "execute_result"
    },
    {
     "data": {
      "image/png": "[encoded data removed]",
      "text/plain": [
       "<Figure size 432x288 with 1 Axes>"
      ]
     },
     "metadata": {
      "needs_background": "light"
     },
     "output_type": "display_data"
    }
   ],
   "source": [
    "plt.plot(data.V_in, data.Vr, '.')"
   ]
  },
  {
   "cell_type": "code",
   "execution_count": 10,
   "metadata": {},
   "outputs": [
    {
     "data": {
      "text/plain": [
       "[<matplotlib.lines.Line2D at 0x7fbbd15d5f60>]"
      ]
     },
     "execution_count": 10,
     "metadata": {},
     "output_type": "execute_result"
    },
    {
     "data": {
      "image/png": "[encoded data removed]",
      "text/plain": [
       "<Figure size 432x288 with 1 Axes>"
      ]
     },
     "metadata": {
      "needs_background": "light"
     },
     "output_type": "display_data"
    }
   ],
   "source": [
    "plt.plot(data.V_in, data.Vr_2, '.')"
   ]
  },
  {
   "cell_type": "markdown",
   "metadata": {},
   "source": [
    "Iniziamo droppando i dati che sono stati presi prima che l'amplificatore fosse andato a regime"
   ]
  },
  {
   "cell_type": "code",
   "execution_count": 11,
   "metadata": {},
   "outputs": [],
   "source": [
    "start_time = 1e-3\n",
    "data = data.drop(data[data.time < start_time].index)"
   ]
  },
  {
   "cell_type": "code",
   "execution_count": 12,
   "metadata": {},
   "outputs": [
    {
     "data": {
      "text/html": [
       "<div>\n",
       "<style scoped>\n",
       "    .dataframe tbody tr th:only-of-type {\n",
       "        vertical-align: middle;\n",
       "    }\n",
       "\n",
       "    .dataframe tbody tr th {\n",
       "        vertical-align: top;\n",
       "    }\n",
       "\n",
       "    .dataframe thead th {\n",
       "        text-align: right;\n",
       "    }\n",
       "</style>\n",
       "<table border=\"1\" class=\"dataframe\">\n",
       "  <thead>\n",
       "    <tr style=\"text-align: right;\">\n",
       "      <th></th>\n",
       "      <th>time</th>\n",
       "      <th>V_in</th>\n",
       "      <th>Vr</th>\n",
       "      <th>Vr_2</th>\n",
       "    </tr>\n",
       "  </thead>\n",
       "  <tbody>\n",
       "    <tr>\n",
       "      <th>151</th>\n",
       "      <td>0.001004</td>\n",
       "      <td>-4.758301</td>\n",
       "      <td>-0.008545</td>\n",
       "      <td>-0.008545</td>\n",
       "    </tr>\n",
       "    <tr>\n",
       "      <th>152</th>\n",
       "      <td>0.001011</td>\n",
       "      <td>-4.755859</td>\n",
       "      <td>0.002441</td>\n",
       "      <td>0.003662</td>\n",
       "    </tr>\n",
       "    <tr>\n",
       "      <th>153</th>\n",
       "      <td>0.001017</td>\n",
       "      <td>-4.746094</td>\n",
       "      <td>0.009766</td>\n",
       "      <td>0.014648</td>\n",
       "    </tr>\n",
       "    <tr>\n",
       "      <th>154</th>\n",
       "      <td>0.001024</td>\n",
       "      <td>-4.702148</td>\n",
       "      <td>-0.002441</td>\n",
       "      <td>0.003662</td>\n",
       "    </tr>\n",
       "    <tr>\n",
       "      <th>155</th>\n",
       "      <td>0.001031</td>\n",
       "      <td>-4.705811</td>\n",
       "      <td>0.007324</td>\n",
       "      <td>0.008545</td>\n",
       "    </tr>\n",
       "  </tbody>\n",
       "</table>\n",
       "</div>"
      ],
      "text/plain": [
       "         time      V_in        Vr      Vr_2\n",
       "151  0.001004 -4.758301 -0.008545 -0.008545\n",
       "152  0.001011 -4.755859  0.002441  0.003662\n",
       "153  0.001017 -4.746094  0.009766  0.014648\n",
       "154  0.001024 -4.702148 -0.002441  0.003662\n",
       "155  0.001031 -4.705811  0.007324  0.008545"
      ]
     },
     "execution_count": 12,
     "metadata": {},
     "output_type": "execute_result"
    }
   ],
   "source": [
    "data.head()"
   ]
  },
  {
   "cell_type": "code",
   "execution_count": 13,
   "metadata": {},
   "outputs": [
    {
     "data": {
      "text/plain": [
       "[<matplotlib.lines.Line2D at 0x7fbbd150b198>]"
      ]
     },
     "execution_count": 13,
     "metadata": {},
     "output_type": "execute_result"
    },
    {
     "data": {
      "image/png": "[encoded data removed]",
      "text/plain": [
       "<Figure size 432x288 with 1 Axes>"
      ]
     },
     "metadata": {
      "needs_background": "light"
     },
     "output_type": "display_data"
    }
   ],
   "source": [
    "plt.plot(data.V_in, data.Vr, '.', markersize=.1)"
   ]
  },
  {
   "cell_type": "code",
   "execution_count": 14,
   "metadata": {},
   "outputs": [
    {
     "data": {
      "image/png": "[encoded data removed]",
      "text/plain": [
       "<Figure size 432x288 with 1 Axes>"
      ]
     },
     "metadata": {
      "needs_background": "light"
     },
     "output_type": "display_data"
    }
   ],
   "source": [
    "plt.plot(data.V_in, data.Vr_2, '.', markersize=.1)\n",
    "plt.grid(ls=':')"
   ]
  },
  {
   "cell_type": "markdown",
   "metadata": {},
   "source": [
    "Direi molto meglio.\n",
    "\n",
    "Da questi grafici si nota che i dati della seconda colonna sono decisamente più belli, dato che questi sono solo dati di esempio e noi avremo a che fare con una sola sonda posso pensare di droppare brutalmente i dati della prima colonna e concentrarmi sul secondo set di dati."
   ]
  },
  {
   "cell_type": "code",
   "execution_count": 15,
   "metadata": {},
   "outputs": [
    {
     "data": {
      "text/html": [
       "<div>\n",
       "<style scoped>\n",
       "    .dataframe tbody tr th:only-of-type {\n",
       "        vertical-align: middle;\n",
       "    }\n",
       "\n",
       "    .dataframe tbody tr th {\n",
       "        vertical-align: top;\n",
       "    }\n",
       "\n",
       "    .dataframe thead th {\n",
       "        text-align: right;\n",
       "    }\n",
       "</style>\n",
       "<table border=\"1\" class=\"dataframe\">\n",
       "  <thead>\n",
       "    <tr style=\"text-align: right;\">\n",
       "      <th></th>\n",
       "      <th>time</th>\n",
       "      <th>V_in</th>\n",
       "      <th>Vr_2</th>\n",
       "    </tr>\n",
       "  </thead>\n",
       "  <tbody>\n",
       "    <tr>\n",
       "      <th>151</th>\n",
       "      <td>0.001004</td>\n",
       "      <td>-4.758301</td>\n",
       "      <td>-0.008545</td>\n",
       "    </tr>\n",
       "    <tr>\n",
       "      <th>152</th>\n",
       "      <td>0.001011</td>\n",
       "      <td>-4.755859</td>\n",
       "      <td>0.003662</td>\n",
       "    </tr>\n",
       "    <tr>\n",
       "      <th>153</th>\n",
       "      <td>0.001017</td>\n",
       "      <td>-4.746094</td>\n",
       "      <td>0.014648</td>\n",
       "    </tr>\n",
       "    <tr>\n",
       "      <th>154</th>\n",
       "      <td>0.001024</td>\n",
       "      <td>-4.702148</td>\n",
       "      <td>0.003662</td>\n",
       "    </tr>\n",
       "    <tr>\n",
       "      <th>155</th>\n",
       "      <td>0.001031</td>\n",
       "      <td>-4.705811</td>\n",
       "      <td>0.008545</td>\n",
       "    </tr>\n",
       "  </tbody>\n",
       "</table>\n",
       "</div>"
      ],
      "text/plain": [
       "         time      V_in      Vr_2\n",
       "151  0.001004 -4.758301 -0.008545\n",
       "152  0.001011 -4.755859  0.003662\n",
       "153  0.001017 -4.746094  0.014648\n",
       "154  0.001024 -4.702148  0.003662\n",
       "155  0.001031 -4.705811  0.008545"
      ]
     },
     "execution_count": 15,
     "metadata": {},
     "output_type": "execute_result"
    }
   ],
   "source": [
    "data = data.drop(columns='Vr')\n",
    "data.head()"
   ]
  },
  {
   "cell_type": "markdown",
   "metadata": {},
   "source": [
    "Gia che ci sono rinomino anche la colonna `Vr_2` per poterla chiamare più facilmente"
   ]
  },
  {
   "cell_type": "code",
   "execution_count": 16,
   "metadata": {},
   "outputs": [
    {
     "data": {
      "text/html": [
       "<div>\n",
       "<style scoped>\n",
       "    .dataframe tbody tr th:only-of-type {\n",
       "        vertical-align: middle;\n",
       "    }\n",
       "\n",
       "    .dataframe tbody tr th {\n",
       "        vertical-align: top;\n",
       "    }\n",
       "\n",
       "    .dataframe thead th {\n",
       "        text-align: right;\n",
       "    }\n",
       "</style>\n",
       "<table border=\"1\" class=\"dataframe\">\n",
       "  <thead>\n",
       "    <tr style=\"text-align: right;\">\n",
       "      <th></th>\n",
       "      <th>time</th>\n",
       "      <th>V_in</th>\n",
       "      <th>Vr</th>\n",
       "    </tr>\n",
       "  </thead>\n",
       "  <tbody>\n",
       "    <tr>\n",
       "      <th>151</th>\n",
       "      <td>0.001004</td>\n",
       "      <td>-4.758301</td>\n",
       "      <td>-0.008545</td>\n",
       "    </tr>\n",
       "    <tr>\n",
       "      <th>152</th>\n",
       "      <td>0.001011</td>\n",
       "      <td>-4.755859</td>\n",
       "      <td>0.003662</td>\n",
       "    </tr>\n",
       "    <tr>\n",
       "      <th>153</th>\n",
       "      <td>0.001017</td>\n",
       "      <td>-4.746094</td>\n",
       "      <td>0.014648</td>\n",
       "    </tr>\n",
       "    <tr>\n",
       "      <th>154</th>\n",
       "      <td>0.001024</td>\n",
       "      <td>-4.702148</td>\n",
       "      <td>0.003662</td>\n",
       "    </tr>\n",
       "    <tr>\n",
       "      <th>155</th>\n",
       "      <td>0.001031</td>\n",
       "      <td>-4.705811</td>\n",
       "      <td>0.008545</td>\n",
       "    </tr>\n",
       "  </tbody>\n",
       "</table>\n",
       "</div>"
      ],
      "text/plain": [
       "         time      V_in        Vr\n",
       "151  0.001004 -4.758301 -0.008545\n",
       "152  0.001011 -4.755859  0.003662\n",
       "153  0.001017 -4.746094  0.014648\n",
       "154  0.001024 -4.702148  0.003662\n",
       "155  0.001031 -4.705811  0.008545"
      ]
     },
     "execution_count": 16,
     "metadata": {},
     "output_type": "execute_result"
    }
   ],
   "source": [
    "data = data.rename(columns={'Vr_2':'Vr'})\n",
    "data.head()"
   ]
  },
  {
   "cell_type": "markdown",
   "metadata": {},
   "source": [
    "Anche la colonna del tempo non serve più. Droppo anche quella"
   ]
  },
  {
   "cell_type": "code",
   "execution_count": 17,
   "metadata": {},
   "outputs": [],
   "source": [
    "data = data.drop(columns='time')"
   ]
  },
  {
   "cell_type": "markdown",
   "metadata": {},
   "source": [
    "### Correzione dell'offset"
   ]
  },
  {
   "cell_type": "markdown",
   "metadata": {},
   "source": [
    "Correggiamo ora l'offset dell'amplificatore operazionale su cui leggiamo i dati. La correzione dell'offset va fatta _prima_ dell'amplificazione"
   ]
  },
  {
   "cell_type": "code",
   "execution_count": 18,
   "metadata": {},
   "outputs": [],
   "source": [
    "Voffset = .05 \n",
    "data.Vr = data.Vr - Voffset"
   ]
  },
  {
   "cell_type": "code",
   "execution_count": 19,
   "metadata": {},
   "outputs": [
    {
     "data": {
      "text/html": [
       "<div>\n",
       "<style scoped>\n",
       "    .dataframe tbody tr th:only-of-type {\n",
       "        vertical-align: middle;\n",
       "    }\n",
       "\n",
       "    .dataframe tbody tr th {\n",
       "        vertical-align: top;\n",
       "    }\n",
       "\n",
       "    .dataframe thead th {\n",
       "        text-align: right;\n",
       "    }\n",
       "</style>\n",
       "<table border=\"1\" class=\"dataframe\">\n",
       "  <thead>\n",
       "    <tr style=\"text-align: right;\">\n",
       "      <th></th>\n",
       "      <th>V_in</th>\n",
       "      <th>Vr</th>\n",
       "    </tr>\n",
       "  </thead>\n",
       "  <tbody>\n",
       "    <tr>\n",
       "      <th>151</th>\n",
       "      <td>-4.758301</td>\n",
       "      <td>-0.058545</td>\n",
       "    </tr>\n",
       "    <tr>\n",
       "      <th>152</th>\n",
       "      <td>-4.755859</td>\n",
       "      <td>-0.046338</td>\n",
       "    </tr>\n",
       "    <tr>\n",
       "      <th>153</th>\n",
       "      <td>-4.746094</td>\n",
       "      <td>-0.035352</td>\n",
       "    </tr>\n",
       "    <tr>\n",
       "      <th>154</th>\n",
       "      <td>-4.702148</td>\n",
       "      <td>-0.046338</td>\n",
       "    </tr>\n",
       "    <tr>\n",
       "      <th>155</th>\n",
       "      <td>-4.705811</td>\n",
       "      <td>-0.041455</td>\n",
       "    </tr>\n",
       "  </tbody>\n",
       "</table>\n",
       "</div>"
      ],
      "text/plain": [
       "         V_in        Vr\n",
       "151 -4.758301 -0.058545\n",
       "152 -4.755859 -0.046338\n",
       "153 -4.746094 -0.035352\n",
       "154 -4.702148 -0.046338\n",
       "155 -4.705811 -0.041455"
      ]
     },
     "execution_count": 19,
     "metadata": {},
     "output_type": "execute_result"
    }
   ],
   "source": [
    "data.head()"
   ]
  },
  {
   "cell_type": "markdown",
   "metadata": {},
   "source": [
    "### Amplificazione"
   ]
  },
  {
   "cell_type": "markdown",
   "metadata": {},
   "source": [
    "Il segnale, prima di essere inviato alla sonda e prima di essere letto dall'ADC viene prima amplificato: il segnale inviato alla sonda viene amplificato di un fattore fisso $A_1 = 7.4$ mentre il segnale letto dall'ADC aplificato di un fattore $A_2$ variabile. "
   ]
  },
  {
   "cell_type": "code",
   "execution_count": 20,
   "metadata": {},
   "outputs": [],
   "source": [
    "amp1 = 7.4\n",
    "amp2 = 1"
   ]
  },
  {
   "cell_type": "code",
   "execution_count": 21,
   "metadata": {},
   "outputs": [],
   "source": [
    "data['Vin_amp'] = data.V_in * amp1"
   ]
  },
  {
   "cell_type": "code",
   "execution_count": 22,
   "metadata": {},
   "outputs": [
    {
     "data": {
      "text/html": [
       "<div>\n",
       "<style scoped>\n",
       "    .dataframe tbody tr th:only-of-type {\n",
       "        vertical-align: middle;\n",
       "    }\n",
       "\n",
       "    .dataframe tbody tr th {\n",
       "        vertical-align: top;\n",
       "    }\n",
       "\n",
       "    .dataframe thead th {\n",
       "        text-align: right;\n",
       "    }\n",
       "</style>\n",
       "<table border=\"1\" class=\"dataframe\">\n",
       "  <thead>\n",
       "    <tr style=\"text-align: right;\">\n",
       "      <th></th>\n",
       "      <th>V_in</th>\n",
       "      <th>Vr</th>\n",
       "      <th>Vin_amp</th>\n",
       "    </tr>\n",
       "  </thead>\n",
       "  <tbody>\n",
       "    <tr>\n",
       "      <th>151</th>\n",
       "      <td>-4.758301</td>\n",
       "      <td>-0.058545</td>\n",
       "      <td>-35.211426</td>\n",
       "    </tr>\n",
       "    <tr>\n",
       "      <th>152</th>\n",
       "      <td>-4.755859</td>\n",
       "      <td>-0.046338</td>\n",
       "      <td>-35.193359</td>\n",
       "    </tr>\n",
       "    <tr>\n",
       "      <th>153</th>\n",
       "      <td>-4.746094</td>\n",
       "      <td>-0.035352</td>\n",
       "      <td>-35.121094</td>\n",
       "    </tr>\n",
       "    <tr>\n",
       "      <th>154</th>\n",
       "      <td>-4.702148</td>\n",
       "      <td>-0.046338</td>\n",
       "      <td>-34.795898</td>\n",
       "    </tr>\n",
       "    <tr>\n",
       "      <th>155</th>\n",
       "      <td>-4.705811</td>\n",
       "      <td>-0.041455</td>\n",
       "      <td>-34.822998</td>\n",
       "    </tr>\n",
       "  </tbody>\n",
       "</table>\n",
       "</div>"
      ],
      "text/plain": [
       "         V_in        Vr    Vin_amp\n",
       "151 -4.758301 -0.058545 -35.211426\n",
       "152 -4.755859 -0.046338 -35.193359\n",
       "153 -4.746094 -0.035352 -35.121094\n",
       "154 -4.702148 -0.046338 -34.795898\n",
       "155 -4.705811 -0.041455 -34.822998"
      ]
     },
     "execution_count": 22,
     "metadata": {},
     "output_type": "execute_result"
    }
   ],
   "source": [
    "data.head()"
   ]
  },
  {
   "cell_type": "code",
   "execution_count": 23,
   "metadata": {},
   "outputs": [],
   "source": [
    "data['Vr_amp'] = data.Vr * amp2"
   ]
  },
  {
   "cell_type": "code",
   "execution_count": 24,
   "metadata": {},
   "outputs": [
    {
     "data": {
      "text/html": [
       "<div>\n",
       "<style scoped>\n",
       "    .dataframe tbody tr th:only-of-type {\n",
       "        vertical-align: middle;\n",
       "    }\n",
       "\n",
       "    .dataframe tbody tr th {\n",
       "        vertical-align: top;\n",
       "    }\n",
       "\n",
       "    .dataframe thead th {\n",
       "        text-align: right;\n",
       "    }\n",
       "</style>\n",
       "<table border=\"1\" class=\"dataframe\">\n",
       "  <thead>\n",
       "    <tr style=\"text-align: right;\">\n",
       "      <th></th>\n",
       "      <th>V_in</th>\n",
       "      <th>Vr</th>\n",
       "      <th>Vin_amp</th>\n",
       "      <th>Vr_amp</th>\n",
       "    </tr>\n",
       "  </thead>\n",
       "  <tbody>\n",
       "    <tr>\n",
       "      <th>151</th>\n",
       "      <td>-4.758301</td>\n",
       "      <td>-0.058545</td>\n",
       "      <td>-35.211426</td>\n",
       "      <td>-0.058545</td>\n",
       "    </tr>\n",
       "    <tr>\n",
       "      <th>152</th>\n",
       "      <td>-4.755859</td>\n",
       "      <td>-0.046338</td>\n",
       "      <td>-35.193359</td>\n",
       "      <td>-0.046338</td>\n",
       "    </tr>\n",
       "    <tr>\n",
       "      <th>153</th>\n",
       "      <td>-4.746094</td>\n",
       "      <td>-0.035352</td>\n",
       "      <td>-35.121094</td>\n",
       "      <td>-0.035352</td>\n",
       "    </tr>\n",
       "    <tr>\n",
       "      <th>154</th>\n",
       "      <td>-4.702148</td>\n",
       "      <td>-0.046338</td>\n",
       "      <td>-34.795898</td>\n",
       "      <td>-0.046338</td>\n",
       "    </tr>\n",
       "    <tr>\n",
       "      <th>155</th>\n",
       "      <td>-4.705811</td>\n",
       "      <td>-0.041455</td>\n",
       "      <td>-34.822998</td>\n",
       "      <td>-0.041455</td>\n",
       "    </tr>\n",
       "  </tbody>\n",
       "</table>\n",
       "</div>"
      ],
      "text/plain": [
       "         V_in        Vr    Vin_amp    Vr_amp\n",
       "151 -4.758301 -0.058545 -35.211426 -0.058545\n",
       "152 -4.755859 -0.046338 -35.193359 -0.046338\n",
       "153 -4.746094 -0.035352 -35.121094 -0.035352\n",
       "154 -4.702148 -0.046338 -34.795898 -0.046338\n",
       "155 -4.705811 -0.041455 -34.822998 -0.041455"
      ]
     },
     "execution_count": 24,
     "metadata": {},
     "output_type": "execute_result"
    }
   ],
   "source": [
    "data.head()"
   ]
  },
  {
   "cell_type": "markdown",
   "metadata": {},
   "source": [
    "## Calcolo dei dati"
   ]
  },
  {
   "cell_type": "markdown",
   "metadata": {},
   "source": [
    "Ora abbiamo i dati decentemente ripuliti, quello che bisogna fare è, partendo da $V_{in}$ e $V_r$, calcolare la tensione della sonda $V_{probe}$ e la corrente $I$ raccolta da quest'ultima"
   ]
  },
  {
   "cell_type": "code",
   "execution_count": 25,
   "metadata": {},
   "outputs": [],
   "source": [
    "R = 1000"
   ]
  },
  {
   "cell_type": "markdown",
   "metadata": {},
   "source": [
    "Calcoliamo la tensione sulla sonda"
   ]
  },
  {
   "cell_type": "code",
   "execution_count": 26,
   "metadata": {},
   "outputs": [],
   "source": [
    "data['Vp'] = data.Vin_amp - data.Vr_amp"
   ]
  },
  {
   "cell_type": "markdown",
   "metadata": {},
   "source": [
    "e la corrente raccolta (in milliampére)"
   ]
  },
  {
   "cell_type": "code",
   "execution_count": 27,
   "metadata": {},
   "outputs": [],
   "source": [
    "data['I'] = data.Vr_amp/R * 1000"
   ]
  },
  {
   "cell_type": "code",
   "execution_count": 28,
   "metadata": {},
   "outputs": [
    {
     "data": {
      "text/html": [
       "<div>\n",
       "<style scoped>\n",
       "    .dataframe tbody tr th:only-of-type {\n",
       "        vertical-align: middle;\n",
       "    }\n",
       "\n",
       "    .dataframe tbody tr th {\n",
       "        vertical-align: top;\n",
       "    }\n",
       "\n",
       "    .dataframe thead th {\n",
       "        text-align: right;\n",
       "    }\n",
       "</style>\n",
       "<table border=\"1\" class=\"dataframe\">\n",
       "  <thead>\n",
       "    <tr style=\"text-align: right;\">\n",
       "      <th></th>\n",
       "      <th>V_in</th>\n",
       "      <th>Vr</th>\n",
       "      <th>Vin_amp</th>\n",
       "      <th>Vr_amp</th>\n",
       "      <th>Vp</th>\n",
       "      <th>I</th>\n",
       "    </tr>\n",
       "  </thead>\n",
       "  <tbody>\n",
       "    <tr>\n",
       "      <th>151</th>\n",
       "      <td>-4.758301</td>\n",
       "      <td>-0.058545</td>\n",
       "      <td>-35.211426</td>\n",
       "      <td>-0.058545</td>\n",
       "      <td>-35.152881</td>\n",
       "      <td>-0.058545</td>\n",
       "    </tr>\n",
       "    <tr>\n",
       "      <th>152</th>\n",
       "      <td>-4.755859</td>\n",
       "      <td>-0.046338</td>\n",
       "      <td>-35.193359</td>\n",
       "      <td>-0.046338</td>\n",
       "      <td>-35.147021</td>\n",
       "      <td>-0.046338</td>\n",
       "    </tr>\n",
       "    <tr>\n",
       "      <th>153</th>\n",
       "      <td>-4.746094</td>\n",
       "      <td>-0.035352</td>\n",
       "      <td>-35.121094</td>\n",
       "      <td>-0.035352</td>\n",
       "      <td>-35.085742</td>\n",
       "      <td>-0.035352</td>\n",
       "    </tr>\n",
       "    <tr>\n",
       "      <th>154</th>\n",
       "      <td>-4.702148</td>\n",
       "      <td>-0.046338</td>\n",
       "      <td>-34.795898</td>\n",
       "      <td>-0.046338</td>\n",
       "      <td>-34.749561</td>\n",
       "      <td>-0.046338</td>\n",
       "    </tr>\n",
       "    <tr>\n",
       "      <th>155</th>\n",
       "      <td>-4.705811</td>\n",
       "      <td>-0.041455</td>\n",
       "      <td>-34.822998</td>\n",
       "      <td>-0.041455</td>\n",
       "      <td>-34.781543</td>\n",
       "      <td>-0.041455</td>\n",
       "    </tr>\n",
       "  </tbody>\n",
       "</table>\n",
       "</div>"
      ],
      "text/plain": [
       "         V_in        Vr    Vin_amp    Vr_amp         Vp         I\n",
       "151 -4.758301 -0.058545 -35.211426 -0.058545 -35.152881 -0.058545\n",
       "152 -4.755859 -0.046338 -35.193359 -0.046338 -35.147021 -0.046338\n",
       "153 -4.746094 -0.035352 -35.121094 -0.035352 -35.085742 -0.035352\n",
       "154 -4.702148 -0.046338 -34.795898 -0.046338 -34.749561 -0.046338\n",
       "155 -4.705811 -0.041455 -34.822998 -0.041455 -34.781543 -0.041455"
      ]
     },
     "execution_count": 28,
     "metadata": {},
     "output_type": "execute_result"
    }
   ],
   "source": [
    "data.head()"
   ]
  },
  {
   "cell_type": "markdown",
   "metadata": {},
   "source": [
    "Ottimo ora abbiamo i dati che ci servono. Vediamo come sono venuti i dati su un grafico"
   ]
  },
  {
   "cell_type": "code",
   "execution_count": 29,
   "metadata": {},
   "outputs": [
    {
     "data": {
      "image/png": "[encoded data removed]",
      "text/plain": [
       "<Figure size 432x288 with 1 Axes>"
      ]
     },
     "metadata": {
      "needs_background": "light"
     },
     "output_type": "display_data"
    }
   ],
   "source": [
    "plt.plot(data.Vp, data.I, '.', markersize=.1)\n",
    "plt.grid(ls=':')"
   ]
  },
  {
   "cell_type": "markdown",
   "metadata": {},
   "source": [
    "## Riordino i dati"
   ]
  },
  {
   "cell_type": "markdown",
   "metadata": {},
   "source": [
    "I dati importati sono ordinati per il tempo. A noi serve che siano ordinati per l'ascissa, rappresentata da $V_{probe}$. Riordiniamo il datadet per la tensione sulla sonda."
   ]
  },
  {
   "cell_type": "code",
   "execution_count": 30,
   "metadata": {},
   "outputs": [],
   "source": [
    "data = data.sort_values(by='Vp')"
   ]
  },
  {
   "cell_type": "code",
   "execution_count": 31,
   "metadata": {},
   "outputs": [
    {
     "data": {
      "text/html": [
       "<div>\n",
       "<style scoped>\n",
       "    .dataframe tbody tr th:only-of-type {\n",
       "        vertical-align: middle;\n",
       "    }\n",
       "\n",
       "    .dataframe tbody tr th {\n",
       "        vertical-align: top;\n",
       "    }\n",
       "\n",
       "    .dataframe thead th {\n",
       "        text-align: right;\n",
       "    }\n",
       "</style>\n",
       "<table border=\"1\" class=\"dataframe\">\n",
       "  <thead>\n",
       "    <tr style=\"text-align: right;\">\n",
       "      <th></th>\n",
       "      <th>V_in</th>\n",
       "      <th>Vr</th>\n",
       "      <th>Vin_amp</th>\n",
       "      <th>Vr_amp</th>\n",
       "      <th>Vp</th>\n",
       "      <th>I</th>\n",
       "    </tr>\n",
       "  </thead>\n",
       "  <tbody>\n",
       "    <tr>\n",
       "      <th>54219</th>\n",
       "      <td>-7.011719</td>\n",
       "      <td>-0.062207</td>\n",
       "      <td>-51.886719</td>\n",
       "      <td>-0.062207</td>\n",
       "      <td>-51.824512</td>\n",
       "      <td>-0.062207</td>\n",
       "    </tr>\n",
       "    <tr>\n",
       "      <th>72283</th>\n",
       "      <td>-7.010498</td>\n",
       "      <td>-0.053662</td>\n",
       "      <td>-51.877686</td>\n",
       "      <td>-0.053662</td>\n",
       "      <td>-51.824023</td>\n",
       "      <td>-0.053662</td>\n",
       "    </tr>\n",
       "    <tr>\n",
       "      <th>3040</th>\n",
       "      <td>-7.010498</td>\n",
       "      <td>-0.057324</td>\n",
       "      <td>-51.877686</td>\n",
       "      <td>-0.057324</td>\n",
       "      <td>-51.820361</td>\n",
       "      <td>-0.057324</td>\n",
       "    </tr>\n",
       "    <tr>\n",
       "      <th>30137</th>\n",
       "      <td>-7.010498</td>\n",
       "      <td>-0.064648</td>\n",
       "      <td>-51.877686</td>\n",
       "      <td>-0.064648</td>\n",
       "      <td>-51.813037</td>\n",
       "      <td>-0.064648</td>\n",
       "    </tr>\n",
       "    <tr>\n",
       "      <th>55726</th>\n",
       "      <td>-7.009277</td>\n",
       "      <td>-0.057324</td>\n",
       "      <td>-51.868652</td>\n",
       "      <td>-0.057324</td>\n",
       "      <td>-51.811328</td>\n",
       "      <td>-0.057324</td>\n",
       "    </tr>\n",
       "  </tbody>\n",
       "</table>\n",
       "</div>"
      ],
      "text/plain": [
       "           V_in        Vr    Vin_amp    Vr_amp         Vp         I\n",
       "54219 -7.011719 -0.062207 -51.886719 -0.062207 -51.824512 -0.062207\n",
       "72283 -7.010498 -0.053662 -51.877686 -0.053662 -51.824023 -0.053662\n",
       "3040  -7.010498 -0.057324 -51.877686 -0.057324 -51.820361 -0.057324\n",
       "30137 -7.010498 -0.064648 -51.877686 -0.064648 -51.813037 -0.064648\n",
       "55726 -7.009277 -0.057324 -51.868652 -0.057324 -51.811328 -0.057324"
      ]
     },
     "execution_count": 31,
     "metadata": {},
     "output_type": "execute_result"
    }
   ],
   "source": [
    "data.head()"
   ]
  },
  {
   "cell_type": "markdown",
   "metadata": {},
   "source": [
    "Giunti a questo punto gli unici dati che servono sono quelli relativi alla tensione di sonda e alla corrente raccolta dunque droppo le prime quattro colonne"
   ]
  },
  {
   "cell_type": "code",
   "execution_count": 32,
   "metadata": {},
   "outputs": [],
   "source": [
    "data = data.drop(columns=['V_in', 'Vr', 'Vin_amp', 'Vr_amp'])"
   ]
  },
  {
   "cell_type": "code",
   "execution_count": 33,
   "metadata": {},
   "outputs": [
    {
     "data": {
      "text/html": [
       "<div>\n",
       "<style scoped>\n",
       "    .dataframe tbody tr th:only-of-type {\n",
       "        vertical-align: middle;\n",
       "    }\n",
       "\n",
       "    .dataframe tbody tr th {\n",
       "        vertical-align: top;\n",
       "    }\n",
       "\n",
       "    .dataframe thead th {\n",
       "        text-align: right;\n",
       "    }\n",
       "</style>\n",
       "<table border=\"1\" class=\"dataframe\">\n",
       "  <thead>\n",
       "    <tr style=\"text-align: right;\">\n",
       "      <th></th>\n",
       "      <th>Vp</th>\n",
       "      <th>I</th>\n",
       "    </tr>\n",
       "  </thead>\n",
       "  <tbody>\n",
       "    <tr>\n",
       "      <th>54219</th>\n",
       "      <td>-51.824512</td>\n",
       "      <td>-0.062207</td>\n",
       "    </tr>\n",
       "    <tr>\n",
       "      <th>72283</th>\n",
       "      <td>-51.824023</td>\n",
       "      <td>-0.053662</td>\n",
       "    </tr>\n",
       "    <tr>\n",
       "      <th>3040</th>\n",
       "      <td>-51.820361</td>\n",
       "      <td>-0.057324</td>\n",
       "    </tr>\n",
       "    <tr>\n",
       "      <th>30137</th>\n",
       "      <td>-51.813037</td>\n",
       "      <td>-0.064648</td>\n",
       "    </tr>\n",
       "    <tr>\n",
       "      <th>55726</th>\n",
       "      <td>-51.811328</td>\n",
       "      <td>-0.057324</td>\n",
       "    </tr>\n",
       "  </tbody>\n",
       "</table>\n",
       "</div>"
      ],
      "text/plain": [
       "              Vp         I\n",
       "54219 -51.824512 -0.062207\n",
       "72283 -51.824023 -0.053662\n",
       "3040  -51.820361 -0.057324\n",
       "30137 -51.813037 -0.064648\n",
       "55726 -51.811328 -0.057324"
      ]
     },
     "execution_count": 33,
     "metadata": {},
     "output_type": "execute_result"
    }
   ],
   "source": [
    "data.head()"
   ]
  },
  {
   "cell_type": "markdown",
   "metadata": {},
   "source": [
    "## Binning dei dati"
   ]
  },
  {
   "cell_type": "markdown",
   "metadata": {},
   "source": [
    "Questi dati sono troppi per potere eseguire un fit, bisogna, in qualche modo ridurli. Un metodo efficace per raggiungere questo scopo è il binning: ovvero, dividiamo l'asse $x$, quello con i potenziali di sonda $V_p$ in un certo numero di intervalli, eseguiamo la media per i valori in $x$ e in $y$ per ciascun intervallo per ottenere una coppia di valori $(x,y)$ e la deviazione standard per associare a ciascuna $x$ e $y$ un'incertezza. Pandas fornisce una interessante funzione per il binning di dati."
   ]
  },
  {
   "cell_type": "code",
   "execution_count": 34,
   "metadata": {},
   "outputs": [],
   "source": [
    "# bisogna definire quale sia il binning ideale\n",
    "# per ora venogono inseriti alcuni valori di test\n",
    "n_bins_linear = 100\n",
    "n_bins_exp = 400\n",
    "Va_linear = np.linspace(np.min(data.Vp), -1,\n",
    "                        num=n_bins_linear)\n",
    "Va_exp = np.linspace(-1, np.max(data.Vp),\n",
    "                     num=n_bins_exp)\n",
    "# si uniscono i due intervalli in un unico vettore\n",
    "Va = np.append(Va_linear, Va_exp)"
   ]
  },
  {
   "cell_type": "code",
   "execution_count": 35,
   "metadata": {},
   "outputs": [],
   "source": [
    "#pd.cut(data.Vp, Va)"
   ]
  },
  {
   "cell_type": "markdown",
   "metadata": {},
   "source": [
    "Python si lamenta del fatto che l'array per binnare deve essere unico... evidentemente c'è un valore duplicato, cerco di capire chi è e dov'è. Pandas fornisce una funzione molto comoda per trovare i duplicati, la funzione `duplicated`. Dunque converto l'array di `numpy` dei bin in una serie di `pandas` e trovo i valori non unici."
   ]
  },
  {
   "cell_type": "code",
   "execution_count": 36,
   "metadata": {},
   "outputs": [
    {
     "data": {
      "text/plain": [
       "100   -1.0\n",
       "dtype: float64"
      ]
     },
     "execution_count": 36,
     "metadata": {},
     "output_type": "execute_result"
    }
   ],
   "source": [
    "s = pd.Series(Va)\n",
    "s[s.duplicated()]"
   ]
  },
  {
   "cell_type": "markdown",
   "metadata": {},
   "source": [
    "È il valore di raccordo delle due zone. Effettivamente viene creato due volte, provo a cambiare strategia. Intanto provo a binnare su un solo intervallo. Creo un dataset di prova per binnare fino a -1."
   ]
  },
  {
   "cell_type": "code",
   "execution_count": 37,
   "metadata": {},
   "outputs": [],
   "source": [
    "data1 = data.drop(data[data.Vp >= -1].index)"
   ]
  },
  {
   "cell_type": "code",
   "execution_count": 38,
   "metadata": {},
   "outputs": [
    {
     "data": {
      "text/html": [
       "<div>\n",
       "<style scoped>\n",
       "    .dataframe tbody tr th:only-of-type {\n",
       "        vertical-align: middle;\n",
       "    }\n",
       "\n",
       "    .dataframe tbody tr th {\n",
       "        vertical-align: top;\n",
       "    }\n",
       "\n",
       "    .dataframe thead th {\n",
       "        text-align: right;\n",
       "    }\n",
       "</style>\n",
       "<table border=\"1\" class=\"dataframe\">\n",
       "  <thead>\n",
       "    <tr style=\"text-align: right;\">\n",
       "      <th></th>\n",
       "      <th>Vp</th>\n",
       "      <th>I</th>\n",
       "    </tr>\n",
       "  </thead>\n",
       "  <tbody>\n",
       "    <tr>\n",
       "      <th>35788</th>\n",
       "      <td>-1.004932</td>\n",
       "      <td>-0.015820</td>\n",
       "    </tr>\n",
       "    <tr>\n",
       "      <th>61378</th>\n",
       "      <td>-1.002979</td>\n",
       "      <td>-0.026807</td>\n",
       "    </tr>\n",
       "    <tr>\n",
       "      <th>47830</th>\n",
       "      <td>-1.002979</td>\n",
       "      <td>-0.026807</td>\n",
       "    </tr>\n",
       "    <tr>\n",
       "      <th>10936</th>\n",
       "      <td>-1.002246</td>\n",
       "      <td>0.008594</td>\n",
       "    </tr>\n",
       "    <tr>\n",
       "      <th>14714</th>\n",
       "      <td>-1.001270</td>\n",
       "      <td>-0.019482</td>\n",
       "    </tr>\n",
       "  </tbody>\n",
       "</table>\n",
       "</div>"
      ],
      "text/plain": [
       "             Vp         I\n",
       "35788 -1.004932 -0.015820\n",
       "61378 -1.002979 -0.026807\n",
       "47830 -1.002979 -0.026807\n",
       "10936 -1.002246  0.008594\n",
       "14714 -1.001270 -0.019482"
      ]
     },
     "execution_count": 38,
     "metadata": {},
     "output_type": "execute_result"
    }
   ],
   "source": [
    "data1.tail()"
   ]
  },
  {
   "cell_type": "code",
   "execution_count": 39,
   "metadata": {},
   "outputs": [
    {
     "data": {
      "text/plain": [
       "54219                   NaN\n",
       "72283    (-51.825, -51.311]\n",
       "3040     (-51.825, -51.311]\n",
       "30137    (-51.825, -51.311]\n",
       "55726    (-51.825, -51.311]\n",
       "67769    (-51.825, -51.311]\n",
       "64756    (-51.825, -51.311]\n",
       "15083    (-51.825, -51.311]\n",
       "9062     (-51.825, -51.311]\n",
       "69273    (-51.825, -51.311]\n",
       "61747    (-51.825, -51.311]\n",
       "72285    (-51.825, -51.311]\n",
       "37661    (-51.825, -51.311]\n",
       "6051     (-51.825, -51.311]\n",
       "19598    (-51.825, -51.311]\n",
       "10567    (-51.825, -51.311]\n",
       "45190    (-51.825, -51.311]\n",
       "46695    (-51.825, -51.311]\n",
       "3042     (-51.825, -51.311]\n",
       "4546     (-51.825, -51.311]\n",
       "6053     (-51.825, -51.311]\n",
       "7557     (-51.825, -51.311]\n",
       "36157    (-51.825, -51.311]\n",
       "19599    (-51.825, -51.311]\n",
       "58736    (-51.825, -51.311]\n",
       "25619    (-51.825, -51.311]\n",
       "51210    (-51.825, -51.311]\n",
       "52715    (-51.825, -51.311]\n",
       "1535     (-51.825, -51.311]\n",
       "12074    (-51.825, -51.311]\n",
       "                ...        \n",
       "11704        (-1.513, -1.0]\n",
       "4177         (-1.513, -1.0]\n",
       "60611        (-1.513, -1.0]\n",
       "59105        (-1.513, -1.0]\n",
       "28261        (-1.513, -1.0]\n",
       "7187         (-1.513, -1.0]\n",
       "74925        (-1.513, -1.0]\n",
       "58367        (-1.513, -1.0]\n",
       "4916         (-1.513, -1.0]\n",
       "42548        (-1.513, -1.0]\n",
       "9431         (-1.513, -1.0]\n",
       "399          (-1.513, -1.0]\n",
       "34282        (-1.513, -1.0]\n",
       "26756        (-1.513, -1.0]\n",
       "61377        (-1.513, -1.0]\n",
       "1166         (-1.513, -1.0]\n",
       "68904        (-1.513, -1.0]\n",
       "7188         (-1.513, -1.0]\n",
       "41809        (-1.513, -1.0]\n",
       "67398        (-1.513, -1.0]\n",
       "44819        (-1.513, -1.0]\n",
       "3410         (-1.513, -1.0]\n",
       "48569        (-1.513, -1.0]\n",
       "34283        (-1.513, -1.0]\n",
       "12442        (-1.513, -1.0]\n",
       "35788        (-1.513, -1.0]\n",
       "61378        (-1.513, -1.0]\n",
       "47830        (-1.513, -1.0]\n",
       "10936        (-1.513, -1.0]\n",
       "14714        (-1.513, -1.0]\n",
       "Name: Vp, Length: 36558, dtype: category\n",
       "Categories (99, interval[float64]): [(-51.825, -51.311] < (-51.311, -50.798] < (-50.798, -50.284] < (-50.284, -49.771] ... (-3.054, -2.54] < (-2.54, -2.027] < (-2.027, -1.513] < (-1.513, -1.0]]"
      ]
     },
     "execution_count": 39,
     "metadata": {},
     "output_type": "execute_result"
    }
   ],
   "source": [
    "bins = pd.cut(data1.Vp, Va_linear)\n",
    "bins"
   ]
  },
  {
   "cell_type": "markdown",
   "metadata": {},
   "source": [
    "Ora ho una lista di indici e il bin a cui appartengono. Posso passare questa lista alla funzione `groupby` che raggruppa i valori secondo i bin. Cerco di capire il tipo di dati che restituisce `groupby`"
   ]
  },
  {
   "cell_type": "code",
   "execution_count": 40,
   "metadata": {},
   "outputs": [
    {
     "data": {
      "text/plain": [
       "<pandas.core.groupby.generic.DataFrameGroupBy object at 0x7fbbcc9b1240>"
      ]
     },
     "execution_count": 40,
     "metadata": {},
     "output_type": "execute_result"
    }
   ],
   "source": [
    "group = data1.groupby(bins)\n",
    "group"
   ]
  },
  {
   "cell_type": "code",
   "execution_count": 41,
   "metadata": {},
   "outputs": [
    {
     "data": {
      "text/plain": [
       "pandas.core.groupby.generic.DataFrameGroupBy"
      ]
     },
     "execution_count": 41,
     "metadata": {},
     "output_type": "execute_result"
    }
   ],
   "source": [
    "type(group)"
   ]
  },
  {
   "cell_type": "markdown",
   "metadata": {},
   "source": [
    "Si tratta di un tipo \"gruppo\" di Pandas. Utilizzando il metodo `mean` su questi dati si può ottenere un dataframe con i dati binnati e per ogni intervallo si prendere la media dei valori appartenenti a quel determinato bin per ogni colonna."
   ]
  },
  {
   "cell_type": "code",
   "execution_count": 42,
   "metadata": {},
   "outputs": [
    {
     "data": {
      "text/html": [
       "<div>\n",
       "<style scoped>\n",
       "    .dataframe tbody tr th:only-of-type {\n",
       "        vertical-align: middle;\n",
       "    }\n",
       "\n",
       "    .dataframe tbody tr th {\n",
       "        vertical-align: top;\n",
       "    }\n",
       "\n",
       "    .dataframe thead th {\n",
       "        text-align: right;\n",
       "    }\n",
       "</style>\n",
       "<table border=\"1\" class=\"dataframe\">\n",
       "  <thead>\n",
       "    <tr style=\"text-align: right;\">\n",
       "      <th></th>\n",
       "      <th>Vp</th>\n",
       "      <th>I</th>\n",
       "    </tr>\n",
       "    <tr>\n",
       "      <th>Vp</th>\n",
       "      <th></th>\n",
       "      <th></th>\n",
       "    </tr>\n",
       "  </thead>\n",
       "  <tbody>\n",
       "    <tr>\n",
       "      <th>(-51.825, -51.311]</th>\n",
       "      <td>-51.552643</td>\n",
       "      <td>-0.059151</td>\n",
       "    </tr>\n",
       "    <tr>\n",
       "      <th>(-51.311, -50.798]</th>\n",
       "      <td>-51.053527</td>\n",
       "      <td>-0.054208</td>\n",
       "    </tr>\n",
       "    <tr>\n",
       "      <th>(-50.798, -50.284]</th>\n",
       "      <td>-50.525452</td>\n",
       "      <td>-0.053494</td>\n",
       "    </tr>\n",
       "    <tr>\n",
       "      <th>(-50.284, -49.771]</th>\n",
       "      <td>-50.025110</td>\n",
       "      <td>-0.055123</td>\n",
       "    </tr>\n",
       "    <tr>\n",
       "      <th>(-49.771, -49.258]</th>\n",
       "      <td>-49.512074</td>\n",
       "      <td>-0.053948</td>\n",
       "    </tr>\n",
       "  </tbody>\n",
       "</table>\n",
       "</div>"
      ],
      "text/plain": [
       "                           Vp         I\n",
       "Vp                                     \n",
       "(-51.825, -51.311] -51.552643 -0.059151\n",
       "(-51.311, -50.798] -51.053527 -0.054208\n",
       "(-50.798, -50.284] -50.525452 -0.053494\n",
       "(-50.284, -49.771] -50.025110 -0.055123\n",
       "(-49.771, -49.258] -49.512074 -0.053948"
      ]
     },
     "execution_count": 42,
     "metadata": {},
     "output_type": "execute_result"
    }
   ],
   "source": [
    "data1 = group.mean()\n",
    "data1.head()"
   ]
  },
  {
   "cell_type": "code",
   "execution_count": 43,
   "metadata": {},
   "outputs": [
    {
     "data": {
      "image/png": "[encoded data removed]",
      "text/plain": [
       "<Figure size 432x288 with 1 Axes>"
      ]
     },
     "metadata": {
      "needs_background": "light"
     },
     "output_type": "display_data"
    }
   ],
   "source": [
    "plt.plot(data1.Vp, data1.I, '.')\n",
    "plt.grid(ls=':')"
   ]
  },
  {
   "cell_type": "markdown",
   "metadata": {},
   "source": [
    "Per un gruppo, `pandas` fornisce anche il metodo std che lavora analogamente al metodo `mean` ma restituisce la deviazione standard di ogni bin: lo possiamo usare per stimare le incertezze sui punti."
   ]
  },
  {
   "cell_type": "code",
   "execution_count": 44,
   "metadata": {},
   "outputs": [
    {
     "data": {
      "text/html": [
       "<div>\n",
       "<style scoped>\n",
       "    .dataframe tbody tr th:only-of-type {\n",
       "        vertical-align: middle;\n",
       "    }\n",
       "\n",
       "    .dataframe tbody tr th {\n",
       "        vertical-align: top;\n",
       "    }\n",
       "\n",
       "    .dataframe thead th {\n",
       "        text-align: right;\n",
       "    }\n",
       "</style>\n",
       "<table border=\"1\" class=\"dataframe\">\n",
       "  <thead>\n",
       "    <tr style=\"text-align: right;\">\n",
       "      <th></th>\n",
       "      <th>errVp</th>\n",
       "      <th>errI</th>\n",
       "    </tr>\n",
       "    <tr>\n",
       "      <th>Vp</th>\n",
       "      <th></th>\n",
       "      <th></th>\n",
       "    </tr>\n",
       "  </thead>\n",
       "  <tbody>\n",
       "    <tr>\n",
       "      <th>(-51.825, -51.311]</th>\n",
       "      <td>0.159578</td>\n",
       "      <td>0.007279</td>\n",
       "    </tr>\n",
       "    <tr>\n",
       "      <th>(-51.311, -50.798]</th>\n",
       "      <td>0.131860</td>\n",
       "      <td>0.009801</td>\n",
       "    </tr>\n",
       "    <tr>\n",
       "      <th>(-50.798, -50.284]</th>\n",
       "      <td>0.156329</td>\n",
       "      <td>0.009091</td>\n",
       "    </tr>\n",
       "    <tr>\n",
       "      <th>(-50.284, -49.771]</th>\n",
       "      <td>0.146389</td>\n",
       "      <td>0.009197</td>\n",
       "    </tr>\n",
       "    <tr>\n",
       "      <th>(-49.771, -49.258]</th>\n",
       "      <td>0.150699</td>\n",
       "      <td>0.009306</td>\n",
       "    </tr>\n",
       "  </tbody>\n",
       "</table>\n",
       "</div>"
      ],
      "text/plain": [
       "                       errVp      errI\n",
       "Vp                                    \n",
       "(-51.825, -51.311]  0.159578  0.007279\n",
       "(-51.311, -50.798]  0.131860  0.009801\n",
       "(-50.798, -50.284]  0.156329  0.009091\n",
       "(-50.284, -49.771]  0.146389  0.009197\n",
       "(-49.771, -49.258]  0.150699  0.009306"
      ]
     },
     "execution_count": 44,
     "metadata": {},
     "output_type": "execute_result"
    }
   ],
   "source": [
    "data2 = group.std()\n",
    "data2 = data2.rename(columns={'Vp':'errVp', 'I':'errI'})\n",
    "\n",
    "data2.head()"
   ]
  },
  {
   "cell_type": "markdown",
   "metadata": {},
   "source": [
    "Ottimo, i dati hanno la forma di cui abbiamo bisogno, occorre però a questo punto, creare un unico dataframe che abbia 4 colonne della forma `(x, y, errx, erry)`. Ci viene in aiuto il metodo `concat` fornito da `pandas`, che unisce due oggetti pandas lungo un certo asse."
   ]
  },
  {
   "cell_type": "code",
   "execution_count": 45,
   "metadata": {},
   "outputs": [
    {
     "data": {
      "text/html": [
       "<div>\n",
       "<style scoped>\n",
       "    .dataframe tbody tr th:only-of-type {\n",
       "        vertical-align: middle;\n",
       "    }\n",
       "\n",
       "    .dataframe tbody tr th {\n",
       "        vertical-align: top;\n",
       "    }\n",
       "\n",
       "    .dataframe thead th {\n",
       "        text-align: right;\n",
       "    }\n",
       "</style>\n",
       "<table border=\"1\" class=\"dataframe\">\n",
       "  <thead>\n",
       "    <tr style=\"text-align: right;\">\n",
       "      <th></th>\n",
       "      <th>Vp</th>\n",
       "      <th>I</th>\n",
       "      <th>errVp</th>\n",
       "      <th>errI</th>\n",
       "    </tr>\n",
       "    <tr>\n",
       "      <th>Vp</th>\n",
       "      <th></th>\n",
       "      <th></th>\n",
       "      <th></th>\n",
       "      <th></th>\n",
       "    </tr>\n",
       "  </thead>\n",
       "  <tbody>\n",
       "    <tr>\n",
       "      <th>(-51.825, -51.311]</th>\n",
       "      <td>-51.552643</td>\n",
       "      <td>-0.059151</td>\n",
       "      <td>0.159578</td>\n",
       "      <td>0.007279</td>\n",
       "    </tr>\n",
       "    <tr>\n",
       "      <th>(-51.311, -50.798]</th>\n",
       "      <td>-51.053527</td>\n",
       "      <td>-0.054208</td>\n",
       "      <td>0.131860</td>\n",
       "      <td>0.009801</td>\n",
       "    </tr>\n",
       "    <tr>\n",
       "      <th>(-50.798, -50.284]</th>\n",
       "      <td>-50.525452</td>\n",
       "      <td>-0.053494</td>\n",
       "      <td>0.156329</td>\n",
       "      <td>0.009091</td>\n",
       "    </tr>\n",
       "    <tr>\n",
       "      <th>(-50.284, -49.771]</th>\n",
       "      <td>-50.025110</td>\n",
       "      <td>-0.055123</td>\n",
       "      <td>0.146389</td>\n",
       "      <td>0.009197</td>\n",
       "    </tr>\n",
       "    <tr>\n",
       "      <th>(-49.771, -49.258]</th>\n",
       "      <td>-49.512074</td>\n",
       "      <td>-0.053948</td>\n",
       "      <td>0.150699</td>\n",
       "      <td>0.009306</td>\n",
       "    </tr>\n",
       "  </tbody>\n",
       "</table>\n",
       "</div>"
      ],
      "text/plain": [
       "                           Vp         I     errVp      errI\n",
       "Vp                                                         \n",
       "(-51.825, -51.311] -51.552643 -0.059151  0.159578  0.007279\n",
       "(-51.311, -50.798] -51.053527 -0.054208  0.131860  0.009801\n",
       "(-50.798, -50.284] -50.525452 -0.053494  0.156329  0.009091\n",
       "(-50.284, -49.771] -50.025110 -0.055123  0.146389  0.009197\n",
       "(-49.771, -49.258] -49.512074 -0.053948  0.150699  0.009306"
      ]
     },
     "execution_count": 45,
     "metadata": {},
     "output_type": "execute_result"
    }
   ],
   "source": [
    "binned_data = pd.concat([data1, data2], axis=1)\n",
    "binned_data.head()"
   ]
  },
  {
   "cell_type": "code",
   "execution_count": 46,
   "metadata": {},
   "outputs": [
    {
     "data": {
      "text/html": [
       "<div>\n",
       "<style scoped>\n",
       "    .dataframe tbody tr th:only-of-type {\n",
       "        vertical-align: middle;\n",
       "    }\n",
       "\n",
       "    .dataframe tbody tr th {\n",
       "        vertical-align: top;\n",
       "    }\n",
       "\n",
       "    .dataframe thead th {\n",
       "        text-align: right;\n",
       "    }\n",
       "</style>\n",
       "<table border=\"1\" class=\"dataframe\">\n",
       "  <thead>\n",
       "    <tr style=\"text-align: right;\">\n",
       "      <th></th>\n",
       "      <th>Vp</th>\n",
       "      <th>I</th>\n",
       "      <th>errVp</th>\n",
       "      <th>errI</th>\n",
       "    </tr>\n",
       "    <tr>\n",
       "      <th>Vp</th>\n",
       "      <th></th>\n",
       "      <th></th>\n",
       "      <th></th>\n",
       "      <th></th>\n",
       "    </tr>\n",
       "  </thead>\n",
       "  <tbody>\n",
       "    <tr>\n",
       "      <th>(-3.567, -3.054]</th>\n",
       "      <td>-3.308266</td>\n",
       "      <td>-0.005844</td>\n",
       "      <td>0.164512</td>\n",
       "      <td>0.017759</td>\n",
       "    </tr>\n",
       "    <tr>\n",
       "      <th>(-3.054, -2.54]</th>\n",
       "      <td>-2.797585</td>\n",
       "      <td>-0.005037</td>\n",
       "      <td>0.123407</td>\n",
       "      <td>0.018700</td>\n",
       "    </tr>\n",
       "    <tr>\n",
       "      <th>(-2.54, -2.027]</th>\n",
       "      <td>-2.282219</td>\n",
       "      <td>-0.002569</td>\n",
       "      <td>0.166729</td>\n",
       "      <td>0.019929</td>\n",
       "    </tr>\n",
       "    <tr>\n",
       "      <th>(-2.027, -1.513]</th>\n",
       "      <td>-1.764372</td>\n",
       "      <td>0.002219</td>\n",
       "      <td>0.127015</td>\n",
       "      <td>0.023570</td>\n",
       "    </tr>\n",
       "    <tr>\n",
       "      <th>(-1.513, -1.0]</th>\n",
       "      <td>-1.251131</td>\n",
       "      <td>0.005548</td>\n",
       "      <td>0.161222</td>\n",
       "      <td>0.023078</td>\n",
       "    </tr>\n",
       "  </tbody>\n",
       "</table>\n",
       "</div>"
      ],
      "text/plain": [
       "                        Vp         I     errVp      errI\n",
       "Vp                                                      \n",
       "(-3.567, -3.054] -3.308266 -0.005844  0.164512  0.017759\n",
       "(-3.054, -2.54]  -2.797585 -0.005037  0.123407  0.018700\n",
       "(-2.54, -2.027]  -2.282219 -0.002569  0.166729  0.019929\n",
       "(-2.027, -1.513] -1.764372  0.002219  0.127015  0.023570\n",
       "(-1.513, -1.0]   -1.251131  0.005548  0.161222  0.023078"
      ]
     },
     "execution_count": 46,
     "metadata": {},
     "output_type": "execute_result"
    }
   ],
   "source": [
    "binned_data.tail()"
   ]
  },
  {
   "cell_type": "markdown",
   "metadata": {},
   "source": [
    "I dati hanno assunto definitivamente la forma voluta. A questo punto occorre trovare una strategia generale per eseguire il binning, tenendo conto che voglio eseguire un binning diverso in diversi intervalli (in particolare la curva di Langmuir ha una zona iniziale ad andamento lineare dove bastano pochi punti e una zona ad andamento esponenziale dove, invece servono molti punti). Idealmente ci serve dividere l'asse $x$ del dataset in diverse zone e ciascuna zona in un certo numero di bin. Si può scrivere una funzione che riceva come argomenti un dataframe di `pandas`, una lista con gli estremi delle zone e una lista con il numero di bin per ciascuna zona, che resistuisca un dataframe di `pandas` con quattro colonne del tipo `(Vp, I, errVp, errI)` "
   ]
  },
  {
   "cell_type": "code",
   "execution_count": 47,
   "metadata": {},
   "outputs": [
    {
     "data": {
      "text/html": [
       "<div>\n",
       "<style scoped>\n",
       "    .dataframe tbody tr th:only-of-type {\n",
       "        vertical-align: middle;\n",
       "    }\n",
       "\n",
       "    .dataframe tbody tr th {\n",
       "        vertical-align: top;\n",
       "    }\n",
       "\n",
       "    .dataframe thead th {\n",
       "        text-align: right;\n",
       "    }\n",
       "</style>\n",
       "<table border=\"1\" class=\"dataframe\">\n",
       "  <thead>\n",
       "    <tr style=\"text-align: right;\">\n",
       "      <th></th>\n",
       "      <th>Vp</th>\n",
       "      <th>I</th>\n",
       "    </tr>\n",
       "  </thead>\n",
       "  <tbody>\n",
       "    <tr>\n",
       "      <th>54219</th>\n",
       "      <td>-51.824512</td>\n",
       "      <td>-0.062207</td>\n",
       "    </tr>\n",
       "    <tr>\n",
       "      <th>72283</th>\n",
       "      <td>-51.824023</td>\n",
       "      <td>-0.053662</td>\n",
       "    </tr>\n",
       "    <tr>\n",
       "      <th>3040</th>\n",
       "      <td>-51.820361</td>\n",
       "      <td>-0.057324</td>\n",
       "    </tr>\n",
       "    <tr>\n",
       "      <th>30137</th>\n",
       "      <td>-51.813037</td>\n",
       "      <td>-0.064648</td>\n",
       "    </tr>\n",
       "    <tr>\n",
       "      <th>55726</th>\n",
       "      <td>-51.811328</td>\n",
       "      <td>-0.057324</td>\n",
       "    </tr>\n",
       "  </tbody>\n",
       "</table>\n",
       "</div>"
      ],
      "text/plain": [
       "              Vp         I\n",
       "54219 -51.824512 -0.062207\n",
       "72283 -51.824023 -0.053662\n",
       "3040  -51.820361 -0.057324\n",
       "30137 -51.813037 -0.064648\n",
       "55726 -51.811328 -0.057324"
      ]
     },
     "execution_count": 47,
     "metadata": {},
     "output_type": "execute_result"
    }
   ],
   "source": [
    "data.head()"
   ]
  },
  {
   "cell_type": "code",
   "execution_count": 48,
   "metadata": {},
   "outputs": [],
   "source": [
    "def bin_data(dataframe, zones, n_bins):\n",
    "    '''\n",
    "    La funzione riceve tre argomenti:\n",
    "        - Un DataFrame di Pandas formattato con due colonne [Vp, I]\n",
    "        - Una lista degli estremi delle zone in cui binnare i dati\n",
    "            ad esempio [np.min(data.Vp), -1, np.max(data.Vp)] per \n",
    "            distinguere tra la zona lineare e la zona esponenziale\n",
    "        - Una lista con il numero di bin per ogni zona ad esempio\n",
    "            [100,1000]\n",
    "    Viene ritornato un DataFrame di Pandas con 4 colonne:\n",
    "    [Vp, I, errVp, errI]\n",
    "    '''\n",
    "    # per ovviare al problema degli elementi duplicati nei punti di\n",
    "    # raccordo, devo fare in modo che il punto di stop venga incluso\n",
    "    # solo per l'ultimo segmento di dati. Dunque introduco un\n",
    "    # controllo con if.\n",
    "    \n",
    "    #TODO: inserire un check sui tipi inseriti\n",
    "    \n",
    "    # creo un array di numpy per contenere gli estremi dei bin\n",
    "    bins = np.zeros(0)\n",
    "    \n",
    "    # riempio il vettore creando per ciascuna zona un inieme di punti\n",
    "    # unifomrmemente distribuiti.\n",
    "    # si noti che il ciclo usa la funizone range: range esclude l'estremo\n",
    "    # superiore così che range(3) crei (0, 1, 2). Cosi facendo, ipotizando\n",
    "    # di avere 3 zone, dunque con la lista zones lunga 4 il ciclo si fermerà\n",
    "    # con i = 2, dunque l'ultimo posto letto dalla funzione sarà, i+1=3, \n",
    "    # ovvero, il quarto elemento. La funzione esclude, per ogni zona meno che \n",
    "    # l'ultima, l'estremo superiore, che verrà inserito come estremo inferiore\n",
    "    # della zona successiva.\n",
    "    for i in range(len(zones)-1):\n",
    "        if (i+1) < (len(zones)-1): \n",
    "            bins = np.append(bins, np.linspace(zones[i],\n",
    "                                           zones[i+1], \n",
    "                                           n_bins[i],\n",
    "                                           endpoint=False\n",
    "                                          )\n",
    "                          )\n",
    "    else:\n",
    "         bins = np.append(bins, np.linspace(zones[i],\n",
    "                                           zones[i+1], \n",
    "                                           n_bins[i],\n",
    "                                           endpoint=True\n",
    "                                          )\n",
    "                         )\n",
    "    # ora che ho un vettore senza duplicati con tutti \n",
    "    # gli intervalli per i bin posso raggruppare i dati\n",
    "    group = dataframe.groupby(pd.cut(dataframe.Vp, bins))\n",
    "    means = group.mean()\n",
    "    stds = group.std()\n",
    "    stds = stds.rename(columns={'Vp':'errVp', 'I':'errI'})\n",
    "    return pd.concat([means, stds], axis=1)"
   ]
  },
  {
   "cell_type": "code",
   "execution_count": 49,
   "metadata": {},
   "outputs": [
    {
     "name": "stdout",
     "output_type": "stream",
     "text": [
      "Help on function bin_data in module __main__:\n",
      "\n",
      "bin_data(dataframe, zones, n_bins)\n",
      "    La funzione riceve tre argomenti:\n",
      "        - Un DataFrame di Pandas formattato con due colonne [Vp, I]\n",
      "        - Una lista degli estremi delle zone in cui binnare i dati\n",
      "            ad esempio [np.min(data.Vp), -1, np.max(data.Vp)] per \n",
      "            distinguere tra la zona lineare e la zona esponenziale\n",
      "        - Una lista con il numero di bin per ogni zona ad esempio\n",
      "            [100,1000]\n",
      "    Viene ritornato un DataFrame di Pandas con 4 colonne:\n",
      "    [Vp, I, errVp, errI]\n",
      "\n"
     ]
    }
   ],
   "source": [
    "help(bin_data)"
   ]
  },
  {
   "cell_type": "code",
   "execution_count": 50,
   "metadata": {},
   "outputs": [],
   "source": [
    "binned_data1 = bin_data(data, [np.min(data.Vp), -1, np.max(data.Vp)], [100,100])"
   ]
  },
  {
   "cell_type": "code",
   "execution_count": 51,
   "metadata": {},
   "outputs": [
    {
     "data": {
      "image/png": "[encoded data removed]",
      "text/plain": [
       "<Figure size 432x288 with 1 Axes>"
      ]
     },
     "metadata": {
      "needs_background": "light"
     },
     "output_type": "display_data"
    }
   ],
   "source": [
    "plt.plot(binned_data1.Vp, binned_data1.I, '.')\n",
    "plt.grid(ls=':')"
   ]
  },
  {
   "cell_type": "markdown",
   "metadata": {},
   "source": [
    "Ora bisogna trovare il potenziale flottante $V_{float}$, che è il punto in cui la Langumuir incrocia l'asse $x$. Per fare ciò si trova il minimo del modulo della corrente."
   ]
  },
  {
   "cell_type": "code",
   "execution_count": 52,
   "metadata": {},
   "outputs": [],
   "source": [
    "def compute_V_floating(data):\n",
    "    return data.Vp[data.I.abs().idxmin()]"
   ]
  },
  {
   "cell_type": "code",
   "execution_count": 53,
   "metadata": {},
   "outputs": [
    {
     "data": {
      "text/plain": [
       "-1.7596434800267569"
      ]
     },
     "execution_count": 53,
     "metadata": {},
     "output_type": "execute_result"
    }
   ],
   "source": [
    "Vfl = compute_V_floating(binned_data1)\n",
    "Vfl"
   ]
  },
  {
   "cell_type": "markdown",
   "metadata": {},
   "source": [
    "## Fit a quattro Paramtetri"
   ]
  },
  {
   "cell_type": "markdown",
   "metadata": {},
   "source": [
    "Il prossimo passo è quello di impostare il fit dei dati. L'idea è quella di iterare il fit dei dati con la funzione di una curva Langmuir con quattro parametri liberi. La funzione è la seguente \n",
    "$$\n",
    "I(V_{probe}) =   I_i^{sat} \\bigg[1 - \\alpha(V_{probe} - V_{float}) -\\exp\\bigg(\\frac{e(V_{probe} - V_{float})}{k_B T_e}\\bigg)\\bigg]\n",
    "$$\n",
    "dove il fattore $I_i^{sat}$ rappresenta la corrente ionica di saturazione. I fattori $1 - \\alpha(V_{probe} - V_{float})$ e $\\exp\\big(\\frac{e(V_{probe} - V_{float})}{k_B T_e}\\big)$ rappresentano rispettivamente la corrente ionica e la corrente elettronica. Il fattore $\\alpha$ è dovuto all'espansione della guaina di Debye. L'effetto di tale espansione è quello di provocare una leggera ecrescita della corrente di saturazione ionica lineare rispetto al potenziale di sonda.\n",
    "\n",
    "Di seguito scriviamo una funzione che prende un DataFrame di `pandas` formattato con quattro colonne del tipo $(x, y, errx, erry)$ e ed esegue il fit con una curva langmuir partendo dal minimo del potenziale fino al potenziale di floating. Successivamente reitera il fit un numero fissato di volte, aggiungendo di volta in volta una regione $\\Delta V$ all'area di fit, registra la temperatura minima e riesegue il fit fino al valore corrispondente a tale minimo con i parametri risultanti dalla corrispondente iterazione.\n",
    "\n",
    "Bisogna capire come è meglio farsi ritornare i risultati: un dizionario?"
   ]
  },
  {
   "cell_type": "code",
   "execution_count": 91,
   "metadata": {},
   "outputs": [],
   "source": [
    "def langmuir(par, x):\n",
    "    '''\n",
    "    La fuznione definisce la curva di langmuir\n",
    "    riceve una variabile e quattro parametri.\n",
    "    '''\n",
    "    return par[0] * (1 - par[1] * (x - par[2]) -\n",
    "                     np.exp((x - par[2]) / par[3]))\n",
    "    #\n",
    "\n",
    "def initial_fit(data, model, x_max, initial_parameters):\n",
    "    # scelgo solo i valori che stiano nel intervallo in cui si vuole\n",
    "    # eseguire il fit\n",
    "    data_fit = data.drop(data[data.iloc[:,0] > x_max].index)\n",
    "    odrData = odr.RealData(data_fit.iloc[:,0],\n",
    "                            data_fit.iloc[:,1],\n",
    "                            sx=data_fit.iloc[:,2],\n",
    "                            sy=data_fit.iloc[:,3])\n",
    "    odr_fit = odr.ODR(odrData, model, beta0=initial_parameters)\n",
    "    odr_out = odr_fit.run()\n",
    "    return odr_out.beta, odr_out.sd_beta, odr_out.res_var\n",
    "    \n",
    "def fit_iteration(data, function, n_iterations, x_max_first_iter, step, initial_parameters):\n",
    "    '''\n",
    "    La funzione rivece nell'ordine:\n",
    "        - Un DataFrame di Pandas con formattazione del tipo (x, y, errx, erry)\n",
    "        - Una funzione per eseguire il fit\n",
    "        - Il numero di iterazioni da eseguire\n",
    "        - L'estremo sinistro dell'area del fit\n",
    "        - L'estremo destro per la prima iterazione\n",
    "        - Lo step da aggiungere all'area di fit per ogni iterazione\n",
    "        - Una lista con i valori iniziali dei parametri della funzione di fit\n",
    "        \n",
    "        La funzione richiede che venga caricato il modulo ODR di scipy\n",
    "        \n",
    "        Il metodo migliore per farsi ritornare tutti i dati potrebbe essere un dizionario\n",
    "    '''\n",
    "    # Definisco la funzione modello per ODR\n",
    "    model = odr.Model(function)\n",
    "    # eseguo la prima iterazione del fit per avere un primo set di parametri sottoforma\n",
    "    # di array di numpy. Tengo traccia del valore ottenuto per i parametri ad ogni iterazione\n",
    "    # con l'array fit_par\n",
    "    # voglio un array con 4 colonne e per ora nessuna riga\n",
    "    fit_par = np.zeros((0,4))\n",
    "    fit_par_errors = np.zeros((0,4))\n",
    "    fit_Chi2 = np.zeros(0)\n",
    "    # impilo nell'array il risultato del primo fit e definisco anche il vettore Te che terrà\n",
    "    # traccia delle temperature elettroniche ottenute per ogni iterazione del fit\n",
    "    fit_initial_par, fit_initial_par_error, fit_initial_Chi2 = initial_fit(\n",
    "        data, model, x_max_first_iter, initial_parameters)\n",
    "\n",
    "    fit_par = np.vstack((fit_par, fit_initial_par))\n",
    "    fit_par_errors = np.vstack((fit_par_errors, fit_initial_par_error))\n",
    "    fit_Chi2 = np.append(fit_Chi2, fit_initial_Chi2)\n",
    "    \n",
    "    Te = fit_par[0,3]\n",
    "    \n",
    "    for i in range (1, 30):\n",
    "        # scelgo solo i valori che stiano nel intervallo in cui si vuole\n",
    "        # eseguire il fit\n",
    "        # notare che mi riferisco alle colonne del dataframe mediante la loro \n",
    "        # posizione (iloc) e non mediante la loro etichetta, per guadagnare in \n",
    "        # generalità.\n",
    "        data_fit = data.drop(data[data.iloc[:,0] > x_max_first_iter + i * step].index)\n",
    "        odrData = odr.RealData(data_fit.iloc[:,0],\n",
    "                              data_fit.iloc[:,1],\n",
    "                              sx=data_fit.iloc[:,2],\n",
    "                              sy=data_fit.iloc[:,3])\n",
    "        # i-1: per inizializzare il fit devo prendere i parametri relativi al giro precedente\n",
    "        odr_fit = odr.ODR(odrData, model, beta0=fit_par[i-1,:])\n",
    "        odr_out = odr_fit.run()\n",
    "        Te = np.append(Te, odr_out.beta[3])\n",
    "        fit_Chi2 = np.append(fit_Chi2, odr_out.res_var)\n",
    "        fit_par = np.vstack((fit_par, odr_out.beta))\n",
    "        fit_par_errors = np.vstack((fit_par_errors, odr_out.sd_beta))\n",
    "\n",
    "    #trovo la temperatura minima e mantengo il fit corrispondente\n",
    "    best_iter = np.argmin(Te) \n",
    "    Te_best = Te[best_iter]\n",
    "    fit_par_best = fit_par[best_iter,:]\n",
    "    fit_par_error_best = fit_par_errors[best_iter,:]\n",
    "    fit_Chi2_best = fit_Chi2[best_iter]\n",
    "    # creo la figura con il plot della temperatura in funzione del numero di iterazioni\n",
    "    # che poi verrà ritornata al completamento della funzione insieme agli altri dati\n",
    "    Tfig, Tax = plt.subplots(1,1)\n",
    "    Tax.plot(np.arange(0,30,1)+1, Te, '.', label=r'$T_e$')\n",
    "    # aggiungo il punto della temperatura media al plot precedente\n",
    "    Tax.plot(best_iter + 1, Te_best, 'o', label=r'$T_e^{best}$')\n",
    "    Tax.set_xlabel(r'# iteration')\n",
    "    Tax.set_ylabel(r'$T_e$ [eV]')\n",
    "    Tax.grid(True, ls=':')\n",
    "    Tax.legend()\n",
    "    \n",
    "    # costriusco il grafico dei dati fittati sovrapposti alla curva di fit\n",
    "    fit_figure, fit_ax = plt.subplots(1,1)\n",
    "\n",
    "    fit_ax.errorbar((data.iloc[:,0]).array, (data.iloc[:,1]).array,\n",
    "                    xerr = (data.iloc[:,2]).array, yerr = (data.iloc[:,3]).array,\n",
    "                    ls='', label='Real Data',\n",
    "                    fmt='o', markersize=2, elinewidth=.7, ecolor='k', capsize=1\n",
    "                   )\n",
    "    fit_plot_x = np.linspace(np.min(data.iloc[:,0]), \n",
    "                             np.max(data.iloc[:,0]), 1000)\n",
    "    fit_ax.plot(fit_plot_x, function(fit_par_best, fit_plot_x), 'C1',\n",
    "                label='fit result')\n",
    "    fit_ax.set_ybound(np.min(data.iloc[:,1]) * 2, np.max((data.iloc[:,1]))*1.2)\n",
    "    fit_ax.set_xlabel(r'$V_{probe}$ [V]')\n",
    "    fit_ax.set_ylabel(r'$I$ [mA]')\n",
    "    fit_ax.grid(ls=':')\n",
    "    fit_ax.legend()\n",
    "    \n",
    "    return {\n",
    "        'Te' : Te_best,\n",
    "        'fit_par' : fit_par_best,\n",
    "        'fit_par_errors' : fit_par_error_best,\n",
    "        'Chi2' : round(fit_Chi2_best, 2),\n",
    "        'temperature_plot': Tfig,\n",
    "        'fit_plot' : fit_figure,\n",
    "        'best_iteration' : best_iter + 1\n",
    "    }\n"
   ]
  },
  {
   "cell_type": "code",
   "execution_count": 92,
   "metadata": {},
   "outputs": [
    {
     "data": {
      "image/png": "[encoded data removed]",
      "text/plain": [
       "<Figure size 576x432 with 1 Axes>"
      ]
     },
     "metadata": {
      "needs_background": "light"
     },
     "output_type": "display_data"
    },
    {
     "data": {
      "image/png": "[encoded data removed]",
      "text/plain": [
       "<Figure size 576x432 with 1 Axes>"
      ]
     },
     "metadata": {
      "needs_background": "light"
     },
     "output_type": "display_data"
    }
   ],
   "source": [
    "fit_output = fit_iteration(data=binned_data1, \n",
    "              function=langmuir, \n",
    "              n_iterations=30, \n",
    "              x_max_first_iter=Vfl, \n",
    "              step=1, \n",
    "              initial_parameters=[.001, .0001, -1, 1])"
   ]
  },
  {
   "cell_type": "code",
   "execution_count": 93,
   "metadata": {},
   "outputs": [
    {
     "data": {
      "text/plain": [
       "0.01"
      ]
     },
     "execution_count": 93,
     "metadata": {},
     "output_type": "execute_result"
    }
   ],
   "source": [
    "fit_output[\"Chi2\"]"
   ]
  },
  {
   "cell_type": "code",
   "execution_count": null,
   "metadata": {},
   "outputs": [],
   "source": []
  }
 ],
 "metadata": {
  "kernelspec": {
   "display_name": "Python 3",
   "language": "python",
   "name": "python3"
  },
  "language_info": {
   "codemirror_mode": {
    "name": "ipython",
    "version": 3
   },
   "file_extension": ".py",
   "mimetype": "text/x-python",
   "name": "python",
   "nbconvert_exporter": "python",
   "pygments_lexer": "ipython3",
   "version": "3.7.3"
  }
 },
 "nbformat": 4,
 "nbformat_minor": 2
}
