{
 "cells": [
  {
   "cell_type": "markdown",
   "metadata": {},
   "source": [
    "# PROGRAMMA ANALISI DATI MANUALE"
   ]
  },
  {
   "cell_type": "markdown",
   "metadata": {},
   "source": [
    "L'obiettivo di questo programma è quello di ottenere un grafico e dei dati utili per l'analisi dati manuale. \n",
    "Per eseguire il fit manuale sono sufficienti pochi punti (per rendere il procedimento umanamente possibile), quindi\n",
    "si procede come segue: si prende un file di dati acquisiti, si fa un binning per ottenere 15/20 \"zone\" in cui i dati     vengono divisi e per ogni bin si fa la media dei dati.\n",
    "\n",
    "Per le parti di codice si fa riferimento al file \"AnalisiDati.py\"."
   ]
  },
  {
   "cell_type": "code",
   "execution_count": 1,
   "metadata": {},
   "outputs": [],
   "source": [
    "# Dichiaro le librerie\n",
    "import sys\n",
    "import json\n",
    "import numpy as np\n",
    "import matplotlib as mpl\n",
    "from scipy import odr\n",
    "import matplotlib.pyplot as plt\n",
    "from libraries import filtering\n",
    "from libraries import binning\n",
    "from libraries import fitting"
   ]
  },
  {
   "cell_type": "code",
   "execution_count": 2,
   "metadata": {},
   "outputs": [],
   "source": [
    "mpl.rcParams['figure.figsize'] = (8,6)"
   ]
  },
  {
   "cell_type": "code",
   "execution_count": 3,
   "metadata": {
    "scrolled": true
   },
   "outputs": [
    {
     "data": {
      "text/html": [
       "<div>\n",
       "<style scoped>\n",
       "    .dataframe tbody tr th:only-of-type {\n",
       "        vertical-align: middle;\n",
       "    }\n",
       "\n",
       "    .dataframe tbody tr th {\n",
       "        vertical-align: top;\n",
       "    }\n",
       "\n",
       "    .dataframe thead th {\n",
       "        text-align: right;\n",
       "    }\n",
       "</style>\n",
       "<table border=\"1\" class=\"dataframe\">\n",
       "  <thead>\n",
       "    <tr style=\"text-align: right;\">\n",
       "      <th></th>\n",
       "      <th>time</th>\n",
       "      <th>Vin</th>\n",
       "      <th>Vr</th>\n",
       "      <th>Vin_amp</th>\n",
       "      <th>Vr_amp</th>\n",
       "      <th>Vp</th>\n",
       "      <th>I</th>\n",
       "    </tr>\n",
       "  </thead>\n",
       "  <tbody>\n",
       "    <tr>\n",
       "      <th>93358</th>\n",
       "      <td>0.620831</td>\n",
       "      <td>-7.034912</td>\n",
       "      <td>-0.152698</td>\n",
       "      <td>-52.058350</td>\n",
       "      <td>-0.305397</td>\n",
       "      <td>-51.752953</td>\n",
       "      <td>-0.001140</td>\n",
       "    </tr>\n",
       "    <tr>\n",
       "      <th>31</th>\n",
       "      <td>0.000206</td>\n",
       "      <td>-7.003174</td>\n",
       "      <td>-0.036732</td>\n",
       "      <td>-51.823486</td>\n",
       "      <td>-0.073463</td>\n",
       "      <td>-51.750023</td>\n",
       "      <td>-0.000274</td>\n",
       "    </tr>\n",
       "    <tr>\n",
       "      <th>39169</th>\n",
       "      <td>0.260474</td>\n",
       "      <td>-7.036133</td>\n",
       "      <td>-0.161243</td>\n",
       "      <td>-52.067383</td>\n",
       "      <td>-0.322487</td>\n",
       "      <td>-51.744896</td>\n",
       "      <td>-0.001203</td>\n",
       "    </tr>\n",
       "    <tr>\n",
       "      <th>63251</th>\n",
       "      <td>0.420619</td>\n",
       "      <td>-7.039795</td>\n",
       "      <td>-0.188099</td>\n",
       "      <td>-52.094482</td>\n",
       "      <td>-0.376198</td>\n",
       "      <td>-51.718285</td>\n",
       "      <td>-0.001404</td>\n",
       "    </tr>\n",
       "    <tr>\n",
       "      <th>4547</th>\n",
       "      <td>0.030238</td>\n",
       "      <td>-7.038574</td>\n",
       "      <td>-0.185657</td>\n",
       "      <td>-52.085449</td>\n",
       "      <td>-0.371315</td>\n",
       "      <td>-51.714134</td>\n",
       "      <td>-0.001386</td>\n",
       "    </tr>\n",
       "  </tbody>\n",
       "</table>\n",
       "</div>"
      ],
      "text/plain": [
       "           time       Vin        Vr    Vin_amp    Vr_amp         Vp         I\n",
       "93358  0.620831 -7.034912 -0.152698 -52.058350 -0.305397 -51.752953 -0.001140\n",
       "31     0.000206 -7.003174 -0.036732 -51.823486 -0.073463 -51.750023 -0.000274\n",
       "39169  0.260474 -7.036133 -0.161243 -52.067383 -0.322487 -51.744896 -0.001203\n",
       "63251  0.420619 -7.039795 -0.188099 -52.094482 -0.376198 -51.718285 -0.001404\n",
       "4547   0.030238 -7.038574 -0.185657 -52.085449 -0.371315 -51.714134 -0.001386"
      ]
     },
     "execution_count": 3,
     "metadata": {},
     "output_type": "execute_result"
    }
   ],
   "source": [
    "path = '../dati/190610/190610256'\n",
    "columns = [0,1,2]\n",
    "start = 3e-6\n",
    "offset = -0.017809128027507358\n",
    "ampl = 2\n",
    "res = 268\n",
    "data_settings = {\n",
    "        \"amplification\" : 0.5,\n",
    "        \"start_time\"    : 3e-6,\n",
    "        \"offset\"        : -0.0182,\n",
    "        \"columns\"       : [0,1,2],\n",
    "        \"resistance\"    : 268\n",
    "    }\n",
    "data = filtering.import_data(path,data_settings)\n",
    "data.head()\n",
    "\n",
    "\n",
    "#V_in min             = -7           [V]\n",
    "#V_in max             = +8           [V]\n",
    "#Microwave source     = '740'        [-]\n"
   ]
  },
  {
   "cell_type": "code",
   "execution_count": null,
   "metadata": {},
   "outputs": [],
   "source": [
    "data.tail()"
   ]
  },
  {
   "cell_type": "code",
   "execution_count": null,
   "metadata": {},
   "outputs": [],
   "source": [
    "#binning\n",
    "#prende 7 punti in [-40;-1] e  25 punti in [-1;30]\n",
    "binned_data = binning.bin_data(data, [-40, -1, 30], [7, 25]) \n",
    "plt.plot(binned_data.Vp, binned_data.I, '.')\n",
    "#plt.grid(ls=':')"
   ]
  },
  {
   "cell_type": "code",
   "execution_count": null,
   "metadata": {},
   "outputs": [],
   "source": [
    "#definisco la retta lineare con la quale fitterò i dati di intensità negativa \n",
    "#(corrente saturazione ionica) che sottrarrò alla corrente elettronica\n",
    "def linear (par, x):\n",
    "    return par[0] + x * par[1]\n",
    "\n",
    "model = odr.Model(linear)\n",
    "parameter = [1, 0]\n",
    "\n",
    "binned_data = binned_data.reset_index(drop=True)"
   ]
  },
  {
   "cell_type": "code",
   "execution_count": null,
   "metadata": {},
   "outputs": [],
   "source": [
    "binned_data.head() "
   ]
  },
  {
   "cell_type": "code",
   "execution_count": null,
   "metadata": {},
   "outputs": [],
   "source": [
    "fit_data= binned_data.drop(binned_data[binned_data.index > 1].index)"
   ]
  },
  {
   "cell_type": "code",
   "execution_count": null,
   "metadata": {},
   "outputs": [],
   "source": [
    "fit_data"
   ]
  },
  {
   "cell_type": "code",
   "execution_count": null,
   "metadata": {},
   "outputs": [],
   "source": [
    "fit_data.Vp = fit_data.Vp - (fit_data.Vp).array[-1]"
   ]
  },
  {
   "cell_type": "code",
   "execution_count": null,
   "metadata": {},
   "outputs": [],
   "source": [
    "fit_data"
   ]
  },
  {
   "cell_type": "code",
   "execution_count": null,
   "metadata": {},
   "outputs": [],
   "source": [
    "fit_output = fitting.run_fit(fit_data, model, parameter)\n",
    "fit_output.pprint()"
   ]
  },
  {
   "cell_type": "code",
   "execution_count": null,
   "metadata": {},
   "outputs": [],
   "source": [
    "fit_par = fit_output.beta"
   ]
  },
  {
   "cell_type": "code",
   "execution_count": null,
   "metadata": {},
   "outputs": [],
   "source": [
    "fit_par[0]"
   ]
  },
  {
   "cell_type": "code",
   "execution_count": null,
   "metadata": {},
   "outputs": [],
   "source": [
    "plt.plot(binned_data.Vp, binned_data.I, '.')\n",
    "x = binned_data.Vp\n",
    "plt.plot(x, linear(fit_par, x))"
   ]
  },
  {
   "cell_type": "code",
   "execution_count": null,
   "metadata": {},
   "outputs": [],
   "source": [
    "binned_data.I = binned_data.I - fit_par[0]\n",
    "print(binned_data.I)\n",
    "print('\\n')\n",
    "linear(x, fit_par)"
   ]
  },
  {
   "cell_type": "code",
   "execution_count": null,
   "metadata": {},
   "outputs": [],
   "source": [
    "plt.plot(binned_data.Vp, binned_data.I, '.')\n",
    "plt.grid(ls=':')"
   ]
  },
  {
   "cell_type": "code",
   "execution_count": null,
   "metadata": {},
   "outputs": [],
   "source": [
    "binned_data"
   ]
  },
  {
   "cell_type": "code",
   "execution_count": null,
   "metadata": {},
   "outputs": [],
   "source": [
    "i=0\n",
    "while(i<len((binned_data.I).array)):\n",
    "    delta_logy=np.log((binned_data.I).array[i+1])-np.log((binned_data.I).array[i])\n",
    "    delta_x=(binned_data.Vp).array[i+1]-(binned_data.Vp).array[i]\n",
    "    T_e=delta_x/(delta_logy*2.3)\n",
    "    print(np.log((binned_data.I)).array[i])\n",
    "    i=i+1\n",
    "    print('\\n')\n",
    "    "
   ]
  },
  {
   "cell_type": "code",
   "execution_count": null,
   "metadata": {},
   "outputs": [],
   "source": [
    "binned_data.drop(binned_data[binned_data.index < 2].index, inplace=True)\n",
    "plt.semilogy(binned_data.Vp, binned_data.I, '.')\n",
    "plt.grid(ls=':')"
   ]
  },
  {
   "cell_type": "code",
   "execution_count": null,
   "metadata": {
    "scrolled": false
   },
   "outputs": [],
   "source": [
    "binned_data"
   ]
  }
 ],
 "metadata": {
  "kernelspec": {
   "display_name": "Python 3",
   "language": "python",
   "name": "python3"
  },
  "language_info": {
   "codemirror_mode": {
    "name": "ipython",
    "version": 3
   },
   "file_extension": ".py",
   "mimetype": "text/x-python",
   "name": "python",
   "nbconvert_exporter": "python",
   "pygments_lexer": "ipython3",
   "version": "3.7.3"
  }
 },
 "nbformat": 4,
 "nbformat_minor": 2
}
